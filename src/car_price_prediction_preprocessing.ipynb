{
  "cells": [
    {
      "cell_type": "markdown",
      "id": "cV1FtzGZYhzQ",
      "metadata": {
        "id": "cV1FtzGZYhzQ"
      },
      "source": [
        "# Overview\n",
        "Our project focuses on analyzing a car dataset to better understand patterns and relationships between different car attributes such as price, model year, engine type, and brand. The main business problem it addresses is identifying the factors that influence car pricing, which can be useful for car dealers, buyers, and manufacturers to make informed decisions.\n",
        "\n",
        "By analyzing trends, we can gain insights into how car features affect market value.\n",
        "- How does the brand affect the price?\n",
        "- What cars can be considered overpriced?\n",
        "- Price VS. popularity?\n"
      ]
    },
    {
      "cell_type": "markdown",
      "id": "2NpIRp7UdDe8",
      "metadata": {
        "id": "2NpIRp7UdDe8"
      },
      "source": [
        "# Data\n",
        "We used the Car Features and MSRP Kaggle dataset scraped from Edmunds (an online resource for automotive info) and Twitter, which has variety of attributes that allows us to analyze both numerical (e.g., price, year, mileage) and categorical (e.g., make, market category, transmission) data.\n"
      ]
    },
    {
      "cell_type": "markdown",
      "id": "IfJc3BjKe4Cl",
      "metadata": {
        "id": "IfJc3BjKe4Cl"
      },
      "source": [
        "# Clean and Prepare Data\n",
        "\n",
        "**Handling missing values** – Identified and removed or imputed missing values to ensure consistency.\n",
        "\n",
        "**Dealing with duplicates** – Checked for and removed duplicate records to avoid bias in analysis.\n",
        "\n",
        "**Transforming data types** – Ensured categorical variables like Make and Transmission were properly encoded.\n",
        "\n",
        "**Feature grouping** – Simplified categorical variables by grouping less frequent brands into an “Other” category to make visualization more meaningful.\n",
        "\n",
        "**Dummy encoding** – Converted categorical variables such as Make into dummy variables for better analysis and modeling.\n",
        "\n",
        "**Dropping duplicate features** – Removed columns that did not add value to the analysis (e.g., overly detailed identifiers).\n",
        "\n",
        "These preprocessing steps helped create a clean, structured dataset suitable for exploratory data analysis (EDA), visualization, and statistical insights.\n",
        "\n",
        "In the next section, we will perform Exploratory Data Analysis (EDA) to summarize the dataset’s main characteristics, uncover hidden patterns, and highlight the relationships between car attributes such as price, model year, and brand."
      ]
    },
    {
      "cell_type": "markdown",
      "id": "c91e9940",
      "metadata": {
        "id": "c91e9940"
      },
      "source": [
        "## Data Card"
      ]
    },
    {
      "cell_type": "code",
      "execution_count": 142,
      "id": "f9cead7c",
      "metadata": {
        "id": "f9cead7c"
      },
      "outputs": [],
      "source": [
        "# Make                Car Make\n",
        "# Model               Car Model\n",
        "# Year                Car Year (Marketing)\n",
        "# Engine Fuel Type    Engine Fuel Type\n",
        "# Engine HP           Engine Horse Power (HP)\n",
        "# Engine Cylinders    Engine Cylinders\n",
        "# Transmission Type   Transmission Type\n",
        "# Driven_Wheels       Driven Wheels\n",
        "# Number of Doors     Number of Doors\n",
        "# Market Category     Market Category\n",
        "# Vehicle Size        Size of Vehicle\n",
        "# Vehicle Style       Type of Vehicle\n",
        "# highway MPG         Highway MPG\n",
        "# city mpg            City MPG\n",
        "# Popularity          Popularity (Twitter)\n",
        "# MSRP                Manufacturer Suggested Retail Price"
      ]
    },
    {
      "cell_type": "markdown",
      "id": "63a72c9d",
      "metadata": {
        "id": "63a72c9d"
      },
      "source": [
        "## Understand the Data"
      ]
    },
    {
      "cell_type": "code",
      "execution_count": 143,
      "id": "699a0e9c",
      "metadata": {
        "id": "699a0e9c"
      },
      "outputs": [],
      "source": [
        "import pandas as pd\n",
        "import numpy as np"
      ]
    },
    {
      "cell_type": "code",
      "execution_count": 144,
      "id": "69c37c05",
      "metadata": {
        "id": "69c37c05"
      },
      "outputs": [],
      "source": [
        "df = pd.read_csv('../data/data.csv')\n"
      ]
    },
    {
      "cell_type": "code",
      "execution_count": 145,
      "id": "f09c5996",
      "metadata": {
        "colab": {
          "base_uri": "https://localhost:8080/",
          "height": 434
        },
        "id": "f09c5996",
        "outputId": "decc30ee-7190-4002-ee42-e3b088ad2b2b"
      },
      "outputs": [
        {
          "data": {
            "text/html": [
              "<div>\n",
              "<style scoped>\n",
              "    .dataframe tbody tr th:only-of-type {\n",
              "        vertical-align: middle;\n",
              "    }\n",
              "\n",
              "    .dataframe tbody tr th {\n",
              "        vertical-align: top;\n",
              "    }\n",
              "\n",
              "    .dataframe thead th {\n",
              "        text-align: right;\n",
              "    }\n",
              "</style>\n",
              "<table border=\"1\" class=\"dataframe\">\n",
              "  <thead>\n",
              "    <tr style=\"text-align: right;\">\n",
              "      <th></th>\n",
              "      <th>Make</th>\n",
              "      <th>Model</th>\n",
              "      <th>Year</th>\n",
              "      <th>Engine Fuel Type</th>\n",
              "      <th>Engine HP</th>\n",
              "      <th>Engine Cylinders</th>\n",
              "      <th>Transmission Type</th>\n",
              "      <th>Driven_Wheels</th>\n",
              "      <th>Number of Doors</th>\n",
              "      <th>Market Category</th>\n",
              "      <th>Vehicle Size</th>\n",
              "      <th>Vehicle Style</th>\n",
              "      <th>highway MPG</th>\n",
              "      <th>city mpg</th>\n",
              "      <th>Popularity</th>\n",
              "      <th>MSRP</th>\n",
              "    </tr>\n",
              "  </thead>\n",
              "  <tbody>\n",
              "    <tr>\n",
              "      <th>0</th>\n",
              "      <td>BMW</td>\n",
              "      <td>1 Series M</td>\n",
              "      <td>2011</td>\n",
              "      <td>premium unleaded (required)</td>\n",
              "      <td>335.0</td>\n",
              "      <td>6.0</td>\n",
              "      <td>MANUAL</td>\n",
              "      <td>rear wheel drive</td>\n",
              "      <td>2.0</td>\n",
              "      <td>Factory Tuner,Luxury,High-Performance</td>\n",
              "      <td>Compact</td>\n",
              "      <td>Coupe</td>\n",
              "      <td>26</td>\n",
              "      <td>19</td>\n",
              "      <td>3916</td>\n",
              "      <td>46135</td>\n",
              "    </tr>\n",
              "    <tr>\n",
              "      <th>1</th>\n",
              "      <td>BMW</td>\n",
              "      <td>1 Series</td>\n",
              "      <td>2011</td>\n",
              "      <td>premium unleaded (required)</td>\n",
              "      <td>300.0</td>\n",
              "      <td>6.0</td>\n",
              "      <td>MANUAL</td>\n",
              "      <td>rear wheel drive</td>\n",
              "      <td>2.0</td>\n",
              "      <td>Luxury,Performance</td>\n",
              "      <td>Compact</td>\n",
              "      <td>Convertible</td>\n",
              "      <td>28</td>\n",
              "      <td>19</td>\n",
              "      <td>3916</td>\n",
              "      <td>40650</td>\n",
              "    </tr>\n",
              "    <tr>\n",
              "      <th>2</th>\n",
              "      <td>BMW</td>\n",
              "      <td>1 Series</td>\n",
              "      <td>2011</td>\n",
              "      <td>premium unleaded (required)</td>\n",
              "      <td>300.0</td>\n",
              "      <td>6.0</td>\n",
              "      <td>MANUAL</td>\n",
              "      <td>rear wheel drive</td>\n",
              "      <td>2.0</td>\n",
              "      <td>Luxury,High-Performance</td>\n",
              "      <td>Compact</td>\n",
              "      <td>Coupe</td>\n",
              "      <td>28</td>\n",
              "      <td>20</td>\n",
              "      <td>3916</td>\n",
              "      <td>36350</td>\n",
              "    </tr>\n",
              "    <tr>\n",
              "      <th>3</th>\n",
              "      <td>BMW</td>\n",
              "      <td>1 Series</td>\n",
              "      <td>2011</td>\n",
              "      <td>premium unleaded (required)</td>\n",
              "      <td>230.0</td>\n",
              "      <td>6.0</td>\n",
              "      <td>MANUAL</td>\n",
              "      <td>rear wheel drive</td>\n",
              "      <td>2.0</td>\n",
              "      <td>Luxury,Performance</td>\n",
              "      <td>Compact</td>\n",
              "      <td>Coupe</td>\n",
              "      <td>28</td>\n",
              "      <td>18</td>\n",
              "      <td>3916</td>\n",
              "      <td>29450</td>\n",
              "    </tr>\n",
              "    <tr>\n",
              "      <th>4</th>\n",
              "      <td>BMW</td>\n",
              "      <td>1 Series</td>\n",
              "      <td>2011</td>\n",
              "      <td>premium unleaded (required)</td>\n",
              "      <td>230.0</td>\n",
              "      <td>6.0</td>\n",
              "      <td>MANUAL</td>\n",
              "      <td>rear wheel drive</td>\n",
              "      <td>2.0</td>\n",
              "      <td>Luxury</td>\n",
              "      <td>Compact</td>\n",
              "      <td>Convertible</td>\n",
              "      <td>28</td>\n",
              "      <td>18</td>\n",
              "      <td>3916</td>\n",
              "      <td>34500</td>\n",
              "    </tr>\n",
              "  </tbody>\n",
              "</table>\n",
              "</div>"
            ],
            "text/plain": [
              "  Make       Model  Year             Engine Fuel Type  Engine HP  \\\n",
              "0  BMW  1 Series M  2011  premium unleaded (required)      335.0   \n",
              "1  BMW    1 Series  2011  premium unleaded (required)      300.0   \n",
              "2  BMW    1 Series  2011  premium unleaded (required)      300.0   \n",
              "3  BMW    1 Series  2011  premium unleaded (required)      230.0   \n",
              "4  BMW    1 Series  2011  premium unleaded (required)      230.0   \n",
              "\n",
              "   Engine Cylinders Transmission Type     Driven_Wheels  Number of Doors  \\\n",
              "0               6.0            MANUAL  rear wheel drive              2.0   \n",
              "1               6.0            MANUAL  rear wheel drive              2.0   \n",
              "2               6.0            MANUAL  rear wheel drive              2.0   \n",
              "3               6.0            MANUAL  rear wheel drive              2.0   \n",
              "4               6.0            MANUAL  rear wheel drive              2.0   \n",
              "\n",
              "                         Market Category Vehicle Size Vehicle Style  \\\n",
              "0  Factory Tuner,Luxury,High-Performance      Compact         Coupe   \n",
              "1                     Luxury,Performance      Compact   Convertible   \n",
              "2                Luxury,High-Performance      Compact         Coupe   \n",
              "3                     Luxury,Performance      Compact         Coupe   \n",
              "4                                 Luxury      Compact   Convertible   \n",
              "\n",
              "   highway MPG  city mpg  Popularity   MSRP  \n",
              "0           26        19        3916  46135  \n",
              "1           28        19        3916  40650  \n",
              "2           28        20        3916  36350  \n",
              "3           28        18        3916  29450  \n",
              "4           28        18        3916  34500  "
            ]
          },
          "execution_count": 145,
          "metadata": {},
          "output_type": "execute_result"
        }
      ],
      "source": [
        "df.head()"
      ]
    },
    {
      "cell_type": "code",
      "execution_count": 146,
      "id": "12986471",
      "metadata": {
        "colab": {
          "base_uri": "https://localhost:8080/"
        },
        "id": "12986471",
        "outputId": "090b886a-12f5-45a5-d562-9470685e7bc1"
      },
      "outputs": [
        {
          "name": "stdout",
          "output_type": "stream",
          "text": [
            "<class 'pandas.core.frame.DataFrame'>\n",
            "RangeIndex: 11914 entries, 0 to 11913\n",
            "Data columns (total 16 columns):\n",
            " #   Column             Non-Null Count  Dtype  \n",
            "---  ------             --------------  -----  \n",
            " 0   Make               11914 non-null  object \n",
            " 1   Model              11914 non-null  object \n",
            " 2   Year               11914 non-null  int64  \n",
            " 3   Engine Fuel Type   11911 non-null  object \n",
            " 4   Engine HP          11845 non-null  float64\n",
            " 5   Engine Cylinders   11884 non-null  float64\n",
            " 6   Transmission Type  11914 non-null  object \n",
            " 7   Driven_Wheels      11914 non-null  object \n",
            " 8   Number of Doors    11908 non-null  float64\n",
            " 9   Market Category    8172 non-null   object \n",
            " 10  Vehicle Size       11914 non-null  object \n",
            " 11  Vehicle Style      11914 non-null  object \n",
            " 12  highway MPG        11914 non-null  int64  \n",
            " 13  city mpg           11914 non-null  int64  \n",
            " 14  Popularity         11914 non-null  int64  \n",
            " 15  MSRP               11914 non-null  int64  \n",
            "dtypes: float64(3), int64(5), object(8)\n",
            "memory usage: 1.5+ MB\n"
          ]
        }
      ],
      "source": [
        "df.info()"
      ]
    },
    {
      "cell_type": "code",
      "execution_count": 147,
      "id": "6b666aa6",
      "metadata": {
        "colab": {
          "base_uri": "https://localhost:8080/",
          "height": 585
        },
        "id": "6b666aa6",
        "outputId": "bca26a3e-9baa-4534-b077-f95e8a51057c"
      },
      "outputs": [
        {
          "data": {
            "text/plain": [
              "Make                    0\n",
              "Model                   0\n",
              "Year                    0\n",
              "Engine Fuel Type        3\n",
              "Engine HP              69\n",
              "Engine Cylinders       30\n",
              "Transmission Type       0\n",
              "Driven_Wheels           0\n",
              "Number of Doors         6\n",
              "Market Category      3742\n",
              "Vehicle Size            0\n",
              "Vehicle Style           0\n",
              "highway MPG             0\n",
              "city mpg                0\n",
              "Popularity              0\n",
              "MSRP                    0\n",
              "dtype: int64"
            ]
          },
          "execution_count": 147,
          "metadata": {},
          "output_type": "execute_result"
        }
      ],
      "source": [
        "df.isnull().sum()"
      ]
    },
    {
      "cell_type": "code",
      "execution_count": 148,
      "id": "2105b4c0",
      "metadata": {
        "colab": {
          "base_uri": "https://localhost:8080/",
          "height": 300
        },
        "id": "2105b4c0",
        "outputId": "94570e1e-c28e-4724-a423-24945713d473"
      },
      "outputs": [
        {
          "data": {
            "text/html": [
              "<div>\n",
              "<style scoped>\n",
              "    .dataframe tbody tr th:only-of-type {\n",
              "        vertical-align: middle;\n",
              "    }\n",
              "\n",
              "    .dataframe tbody tr th {\n",
              "        vertical-align: top;\n",
              "    }\n",
              "\n",
              "    .dataframe thead th {\n",
              "        text-align: right;\n",
              "    }\n",
              "</style>\n",
              "<table border=\"1\" class=\"dataframe\">\n",
              "  <thead>\n",
              "    <tr style=\"text-align: right;\">\n",
              "      <th></th>\n",
              "      <th>Year</th>\n",
              "      <th>Engine HP</th>\n",
              "      <th>Engine Cylinders</th>\n",
              "      <th>Number of Doors</th>\n",
              "      <th>highway MPG</th>\n",
              "      <th>city mpg</th>\n",
              "      <th>Popularity</th>\n",
              "      <th>MSRP</th>\n",
              "    </tr>\n",
              "  </thead>\n",
              "  <tbody>\n",
              "    <tr>\n",
              "      <th>count</th>\n",
              "      <td>11914.000000</td>\n",
              "      <td>11845.00000</td>\n",
              "      <td>11884.000000</td>\n",
              "      <td>11908.000000</td>\n",
              "      <td>11914.000000</td>\n",
              "      <td>11914.000000</td>\n",
              "      <td>11914.000000</td>\n",
              "      <td>1.191400e+04</td>\n",
              "    </tr>\n",
              "    <tr>\n",
              "      <th>mean</th>\n",
              "      <td>2010.384338</td>\n",
              "      <td>249.38607</td>\n",
              "      <td>5.628829</td>\n",
              "      <td>3.436093</td>\n",
              "      <td>26.637485</td>\n",
              "      <td>19.733255</td>\n",
              "      <td>1554.911197</td>\n",
              "      <td>4.059474e+04</td>\n",
              "    </tr>\n",
              "    <tr>\n",
              "      <th>std</th>\n",
              "      <td>7.579740</td>\n",
              "      <td>109.19187</td>\n",
              "      <td>1.780559</td>\n",
              "      <td>0.881315</td>\n",
              "      <td>8.863001</td>\n",
              "      <td>8.987798</td>\n",
              "      <td>1441.855347</td>\n",
              "      <td>6.010910e+04</td>\n",
              "    </tr>\n",
              "    <tr>\n",
              "      <th>min</th>\n",
              "      <td>1990.000000</td>\n",
              "      <td>55.00000</td>\n",
              "      <td>0.000000</td>\n",
              "      <td>2.000000</td>\n",
              "      <td>12.000000</td>\n",
              "      <td>7.000000</td>\n",
              "      <td>2.000000</td>\n",
              "      <td>2.000000e+03</td>\n",
              "    </tr>\n",
              "    <tr>\n",
              "      <th>25%</th>\n",
              "      <td>2007.000000</td>\n",
              "      <td>170.00000</td>\n",
              "      <td>4.000000</td>\n",
              "      <td>2.000000</td>\n",
              "      <td>22.000000</td>\n",
              "      <td>16.000000</td>\n",
              "      <td>549.000000</td>\n",
              "      <td>2.100000e+04</td>\n",
              "    </tr>\n",
              "    <tr>\n",
              "      <th>50%</th>\n",
              "      <td>2015.000000</td>\n",
              "      <td>227.00000</td>\n",
              "      <td>6.000000</td>\n",
              "      <td>4.000000</td>\n",
              "      <td>26.000000</td>\n",
              "      <td>18.000000</td>\n",
              "      <td>1385.000000</td>\n",
              "      <td>2.999500e+04</td>\n",
              "    </tr>\n",
              "    <tr>\n",
              "      <th>75%</th>\n",
              "      <td>2016.000000</td>\n",
              "      <td>300.00000</td>\n",
              "      <td>6.000000</td>\n",
              "      <td>4.000000</td>\n",
              "      <td>30.000000</td>\n",
              "      <td>22.000000</td>\n",
              "      <td>2009.000000</td>\n",
              "      <td>4.223125e+04</td>\n",
              "    </tr>\n",
              "    <tr>\n",
              "      <th>max</th>\n",
              "      <td>2017.000000</td>\n",
              "      <td>1001.00000</td>\n",
              "      <td>16.000000</td>\n",
              "      <td>4.000000</td>\n",
              "      <td>354.000000</td>\n",
              "      <td>137.000000</td>\n",
              "      <td>5657.000000</td>\n",
              "      <td>2.065902e+06</td>\n",
              "    </tr>\n",
              "  </tbody>\n",
              "</table>\n",
              "</div>"
            ],
            "text/plain": [
              "               Year    Engine HP  Engine Cylinders  Number of Doors  \\\n",
              "count  11914.000000  11845.00000      11884.000000     11908.000000   \n",
              "mean    2010.384338    249.38607          5.628829         3.436093   \n",
              "std        7.579740    109.19187          1.780559         0.881315   \n",
              "min     1990.000000     55.00000          0.000000         2.000000   \n",
              "25%     2007.000000    170.00000          4.000000         2.000000   \n",
              "50%     2015.000000    227.00000          6.000000         4.000000   \n",
              "75%     2016.000000    300.00000          6.000000         4.000000   \n",
              "max     2017.000000   1001.00000         16.000000         4.000000   \n",
              "\n",
              "        highway MPG      city mpg    Popularity          MSRP  \n",
              "count  11914.000000  11914.000000  11914.000000  1.191400e+04  \n",
              "mean      26.637485     19.733255   1554.911197  4.059474e+04  \n",
              "std        8.863001      8.987798   1441.855347  6.010910e+04  \n",
              "min       12.000000      7.000000      2.000000  2.000000e+03  \n",
              "25%       22.000000     16.000000    549.000000  2.100000e+04  \n",
              "50%       26.000000     18.000000   1385.000000  2.999500e+04  \n",
              "75%       30.000000     22.000000   2009.000000  4.223125e+04  \n",
              "max      354.000000    137.000000   5657.000000  2.065902e+06  "
            ]
          },
          "execution_count": 148,
          "metadata": {},
          "output_type": "execute_result"
        }
      ],
      "source": [
        "df.describe()"
      ]
    },
    {
      "cell_type": "markdown",
      "id": "42e57284",
      "metadata": {
        "id": "42e57284"
      },
      "source": [
        "# Handling Missing Values"
      ]
    },
    {
      "cell_type": "markdown",
      "id": "32fdd079",
      "metadata": {
        "id": "32fdd079"
      },
      "source": [
        "## Engine HP (Horsepower)\n",
        "\n",
        "- mean = 249, median = 227 → mean > median so the distribution is right_skewed\n",
        "\n",
        "- std = 109.19 → high variability HP values are widely spread\n",
        "\n",
        "- Range = 55 → 1001 → extreme outliers exist but its bec exotics cars so its not outliers\n",
        "\n",
        "Fill missing values with median, as data is skewed"
      ]
    },
    {
      "cell_type": "code",
      "execution_count": 149,
      "id": "1d4aa513",
      "metadata": {
        "colab": {
          "base_uri": "https://localhost:8080/"
        },
        "id": "1d4aa513",
        "outputId": "0e1da6bd-5631-4b32-ea74-2619fd22c765"
      },
      "outputs": [
        {
          "name": "stderr",
          "output_type": "stream",
          "text": [
            "C:\\Users\\amamr\\AppData\\Local\\Temp\\ipykernel_26452\\217182256.py:1: FutureWarning: A value is trying to be set on a copy of a DataFrame or Series through chained assignment using an inplace method.\n",
            "The behavior will change in pandas 3.0. This inplace method will never work because the intermediate object on which we are setting values always behaves as a copy.\n",
            "\n",
            "For example, when doing 'df[col].method(value, inplace=True)', try using 'df.method({col: value}, inplace=True)' or df[col] = df[col].method(value) instead, to perform the operation inplace on the original object.\n",
            "\n",
            "\n",
            "  df['Engine HP'].fillna(df['Engine HP'].median(), inplace=True)\n"
          ]
        }
      ],
      "source": [
        "df['Engine HP'].fillna(df['Engine HP'].median(), inplace=True)"
      ]
    },
    {
      "cell_type": "markdown",
      "id": "131a19a9",
      "metadata": {
        "id": "131a19a9"
      },
      "source": [
        "## Engine Cylinders\n",
        "\n",
        "- mean = 5.63 median = 6.0 → close values\n",
        "\n",
        "- std = 1.78 → small std so it not vary\n",
        "\n",
        "- Range = 0 → 16 0-> electric cars , 16 for exotics\n",
        "\n",
        "Fill missing values with median (6)"
      ]
    },
    {
      "cell_type": "code",
      "execution_count": 150,
      "id": "4f14ec34",
      "metadata": {
        "colab": {
          "base_uri": "https://localhost:8080/"
        },
        "id": "4f14ec34",
        "outputId": "30583cbf-e9ed-47c7-8e06-239e5ea118f4"
      },
      "outputs": [
        {
          "name": "stderr",
          "output_type": "stream",
          "text": [
            "C:\\Users\\amamr\\AppData\\Local\\Temp\\ipykernel_26452\\3427662301.py:1: FutureWarning: A value is trying to be set on a copy of a DataFrame or Series through chained assignment using an inplace method.\n",
            "The behavior will change in pandas 3.0. This inplace method will never work because the intermediate object on which we are setting values always behaves as a copy.\n",
            "\n",
            "For example, when doing 'df[col].method(value, inplace=True)', try using 'df.method({col: value}, inplace=True)' or df[col] = df[col].method(value) instead, to perform the operation inplace on the original object.\n",
            "\n",
            "\n",
            "  df['Engine Cylinders'].fillna(df['Engine Cylinders'].median(), inplace=True)\n"
          ]
        }
      ],
      "source": [
        "df['Engine Cylinders'].fillna(df['Engine Cylinders'].median(), inplace=True)"
      ]
    },
    {
      "cell_type": "markdown",
      "id": "d25a3cd6",
      "metadata": {
        "id": "d25a3cd6"
      },
      "source": [
        "## Number of Doors\n",
        "\n",
        "- mean = 3.43 , median = 4.0, Mode = 4\n",
        "\n",
        "- std = 0.88 → small var and most of cars has 4 doors\n",
        "\n",
        "Fill missing values with mode (4) bec its categorical so i cant fill with mean"
      ]
    },
    {
      "cell_type": "code",
      "execution_count": 151,
      "id": "70bac032",
      "metadata": {
        "colab": {
          "base_uri": "https://localhost:8080/"
        },
        "id": "70bac032",
        "outputId": "338f9f2e-8445-40f3-e885-361b97e888d3"
      },
      "outputs": [
        {
          "name": "stderr",
          "output_type": "stream",
          "text": [
            "C:\\Users\\amamr\\AppData\\Local\\Temp\\ipykernel_26452\\4226697213.py:1: FutureWarning: A value is trying to be set on a copy of a DataFrame or Series through chained assignment using an inplace method.\n",
            "The behavior will change in pandas 3.0. This inplace method will never work because the intermediate object on which we are setting values always behaves as a copy.\n",
            "\n",
            "For example, when doing 'df[col].method(value, inplace=True)', try using 'df.method({col: value}, inplace=True)' or df[col] = df[col].method(value) instead, to perform the operation inplace on the original object.\n",
            "\n",
            "\n",
            "  df['Number of Doors'].fillna(df['Number of Doors'].mode()[0], inplace=True)\n"
          ]
        }
      ],
      "source": [
        "df['Number of Doors'].fillna(df['Number of Doors'].mode()[0], inplace=True)"
      ]
    },
    {
      "cell_type": "markdown",
      "id": "e8c57210",
      "metadata": {
        "id": "e8c57210"
      },
      "source": [
        "## Engine Fuel Type  (string)"
      ]
    },
    {
      "cell_type": "code",
      "execution_count": 152,
      "id": "845508bf",
      "metadata": {
        "colab": {
          "base_uri": "https://localhost:8080/"
        },
        "id": "845508bf",
        "outputId": "8bd9b60d-08cf-4ead-e7e3-16d09ffaa72e"
      },
      "outputs": [
        {
          "data": {
            "text/plain": [
              "array(['premium unleaded (required)', 'regular unleaded',\n",
              "       'premium unleaded (recommended)', 'flex-fuel (unleaded/E85)',\n",
              "       'diesel', 'electric',\n",
              "       'flex-fuel (premium unleaded recommended/E85)', 'natural gas',\n",
              "       'flex-fuel (premium unleaded required/E85)',\n",
              "       'flex-fuel (unleaded/natural gas)', nan], dtype=object)"
            ]
          },
          "execution_count": 152,
          "metadata": {},
          "output_type": "execute_result"
        }
      ],
      "source": [
        "df['Engine Fuel Type'].unique()"
      ]
    },
    {
      "cell_type": "code",
      "execution_count": 153,
      "id": "82f81373",
      "metadata": {
        "colab": {
          "base_uri": "https://localhost:8080/",
          "height": 250
        },
        "id": "82f81373",
        "outputId": "645f0519-5aca-4d8a-ffb0-036a644122cd"
      },
      "outputs": [
        {
          "data": {
            "text/html": [
              "<div>\n",
              "<style scoped>\n",
              "    .dataframe tbody tr th:only-of-type {\n",
              "        vertical-align: middle;\n",
              "    }\n",
              "\n",
              "    .dataframe tbody tr th {\n",
              "        vertical-align: top;\n",
              "    }\n",
              "\n",
              "    .dataframe thead th {\n",
              "        text-align: right;\n",
              "    }\n",
              "</style>\n",
              "<table border=\"1\" class=\"dataframe\">\n",
              "  <thead>\n",
              "    <tr style=\"text-align: right;\">\n",
              "      <th></th>\n",
              "      <th>Make</th>\n",
              "      <th>Model</th>\n",
              "      <th>Year</th>\n",
              "      <th>Engine Fuel Type</th>\n",
              "      <th>Engine HP</th>\n",
              "      <th>Engine Cylinders</th>\n",
              "      <th>Transmission Type</th>\n",
              "      <th>Driven_Wheels</th>\n",
              "      <th>Number of Doors</th>\n",
              "      <th>Market Category</th>\n",
              "      <th>Vehicle Size</th>\n",
              "      <th>Vehicle Style</th>\n",
              "      <th>highway MPG</th>\n",
              "      <th>city mpg</th>\n",
              "      <th>Popularity</th>\n",
              "      <th>MSRP</th>\n",
              "    </tr>\n",
              "  </thead>\n",
              "  <tbody>\n",
              "    <tr>\n",
              "      <th>11321</th>\n",
              "      <td>Suzuki</td>\n",
              "      <td>Verona</td>\n",
              "      <td>2004</td>\n",
              "      <td>NaN</td>\n",
              "      <td>155.0</td>\n",
              "      <td>6.0</td>\n",
              "      <td>AUTOMATIC</td>\n",
              "      <td>front wheel drive</td>\n",
              "      <td>4.0</td>\n",
              "      <td>NaN</td>\n",
              "      <td>Midsize</td>\n",
              "      <td>Sedan</td>\n",
              "      <td>25</td>\n",
              "      <td>17</td>\n",
              "      <td>481</td>\n",
              "      <td>17199</td>\n",
              "    </tr>\n",
              "    <tr>\n",
              "      <th>11322</th>\n",
              "      <td>Suzuki</td>\n",
              "      <td>Verona</td>\n",
              "      <td>2004</td>\n",
              "      <td>NaN</td>\n",
              "      <td>155.0</td>\n",
              "      <td>6.0</td>\n",
              "      <td>AUTOMATIC</td>\n",
              "      <td>front wheel drive</td>\n",
              "      <td>4.0</td>\n",
              "      <td>NaN</td>\n",
              "      <td>Midsize</td>\n",
              "      <td>Sedan</td>\n",
              "      <td>25</td>\n",
              "      <td>17</td>\n",
              "      <td>481</td>\n",
              "      <td>20199</td>\n",
              "    </tr>\n",
              "    <tr>\n",
              "      <th>11323</th>\n",
              "      <td>Suzuki</td>\n",
              "      <td>Verona</td>\n",
              "      <td>2004</td>\n",
              "      <td>NaN</td>\n",
              "      <td>155.0</td>\n",
              "      <td>6.0</td>\n",
              "      <td>AUTOMATIC</td>\n",
              "      <td>front wheel drive</td>\n",
              "      <td>4.0</td>\n",
              "      <td>NaN</td>\n",
              "      <td>Midsize</td>\n",
              "      <td>Sedan</td>\n",
              "      <td>25</td>\n",
              "      <td>17</td>\n",
              "      <td>481</td>\n",
              "      <td>18499</td>\n",
              "    </tr>\n",
              "  </tbody>\n",
              "</table>\n",
              "</div>"
            ],
            "text/plain": [
              "         Make   Model  Year Engine Fuel Type  Engine HP  Engine Cylinders  \\\n",
              "11321  Suzuki  Verona  2004              NaN      155.0               6.0   \n",
              "11322  Suzuki  Verona  2004              NaN      155.0               6.0   \n",
              "11323  Suzuki  Verona  2004              NaN      155.0               6.0   \n",
              "\n",
              "      Transmission Type      Driven_Wheels  Number of Doors Market Category  \\\n",
              "11321         AUTOMATIC  front wheel drive              4.0             NaN   \n",
              "11322         AUTOMATIC  front wheel drive              4.0             NaN   \n",
              "11323         AUTOMATIC  front wheel drive              4.0             NaN   \n",
              "\n",
              "      Vehicle Size Vehicle Style  highway MPG  city mpg  Popularity   MSRP  \n",
              "11321      Midsize         Sedan           25        17         481  17199  \n",
              "11322      Midsize         Sedan           25        17         481  20199  \n",
              "11323      Midsize         Sedan           25        17         481  18499  "
            ]
          },
          "execution_count": 153,
          "metadata": {},
          "output_type": "execute_result"
        }
      ],
      "source": [
        "df[df['Engine Fuel Type'].isnull()]"
      ]
    },
    {
      "cell_type": "code",
      "execution_count": 154,
      "id": "fb6b6bf3",
      "metadata": {
        "colab": {
          "base_uri": "https://localhost:8080/",
          "height": 542
        },
        "id": "fb6b6bf3",
        "outputId": "fff6fdaa-40fa-4a6f-cb7d-78c2878aed38"
      },
      "outputs": [
        {
          "data": {
            "text/html": [
              "<div>\n",
              "<style scoped>\n",
              "    .dataframe tbody tr th:only-of-type {\n",
              "        vertical-align: middle;\n",
              "    }\n",
              "\n",
              "    .dataframe tbody tr th {\n",
              "        vertical-align: top;\n",
              "    }\n",
              "\n",
              "    .dataframe thead th {\n",
              "        text-align: right;\n",
              "    }\n",
              "</style>\n",
              "<table border=\"1\" class=\"dataframe\">\n",
              "  <thead>\n",
              "    <tr style=\"text-align: right;\">\n",
              "      <th></th>\n",
              "      <th>Make</th>\n",
              "      <th>Model</th>\n",
              "      <th>Year</th>\n",
              "      <th>Engine Fuel Type</th>\n",
              "      <th>Engine HP</th>\n",
              "      <th>Engine Cylinders</th>\n",
              "      <th>Transmission Type</th>\n",
              "      <th>Driven_Wheels</th>\n",
              "      <th>Number of Doors</th>\n",
              "      <th>Market Category</th>\n",
              "      <th>Vehicle Size</th>\n",
              "      <th>Vehicle Style</th>\n",
              "      <th>highway MPG</th>\n",
              "      <th>city mpg</th>\n",
              "      <th>Popularity</th>\n",
              "      <th>MSRP</th>\n",
              "    </tr>\n",
              "  </thead>\n",
              "  <tbody>\n",
              "    <tr>\n",
              "      <th>11321</th>\n",
              "      <td>Suzuki</td>\n",
              "      <td>Verona</td>\n",
              "      <td>2004</td>\n",
              "      <td>NaN</td>\n",
              "      <td>155.0</td>\n",
              "      <td>6.0</td>\n",
              "      <td>AUTOMATIC</td>\n",
              "      <td>front wheel drive</td>\n",
              "      <td>4.0</td>\n",
              "      <td>NaN</td>\n",
              "      <td>Midsize</td>\n",
              "      <td>Sedan</td>\n",
              "      <td>25</td>\n",
              "      <td>17</td>\n",
              "      <td>481</td>\n",
              "      <td>17199</td>\n",
              "    </tr>\n",
              "    <tr>\n",
              "      <th>11322</th>\n",
              "      <td>Suzuki</td>\n",
              "      <td>Verona</td>\n",
              "      <td>2004</td>\n",
              "      <td>NaN</td>\n",
              "      <td>155.0</td>\n",
              "      <td>6.0</td>\n",
              "      <td>AUTOMATIC</td>\n",
              "      <td>front wheel drive</td>\n",
              "      <td>4.0</td>\n",
              "      <td>NaN</td>\n",
              "      <td>Midsize</td>\n",
              "      <td>Sedan</td>\n",
              "      <td>25</td>\n",
              "      <td>17</td>\n",
              "      <td>481</td>\n",
              "      <td>20199</td>\n",
              "    </tr>\n",
              "    <tr>\n",
              "      <th>11323</th>\n",
              "      <td>Suzuki</td>\n",
              "      <td>Verona</td>\n",
              "      <td>2004</td>\n",
              "      <td>NaN</td>\n",
              "      <td>155.0</td>\n",
              "      <td>6.0</td>\n",
              "      <td>AUTOMATIC</td>\n",
              "      <td>front wheel drive</td>\n",
              "      <td>4.0</td>\n",
              "      <td>NaN</td>\n",
              "      <td>Midsize</td>\n",
              "      <td>Sedan</td>\n",
              "      <td>25</td>\n",
              "      <td>17</td>\n",
              "      <td>481</td>\n",
              "      <td>18499</td>\n",
              "    </tr>\n",
              "    <tr>\n",
              "      <th>11324</th>\n",
              "      <td>Suzuki</td>\n",
              "      <td>Verona</td>\n",
              "      <td>2005</td>\n",
              "      <td>regular unleaded</td>\n",
              "      <td>155.0</td>\n",
              "      <td>6.0</td>\n",
              "      <td>AUTOMATIC</td>\n",
              "      <td>front wheel drive</td>\n",
              "      <td>4.0</td>\n",
              "      <td>NaN</td>\n",
              "      <td>Midsize</td>\n",
              "      <td>Sedan</td>\n",
              "      <td>25</td>\n",
              "      <td>18</td>\n",
              "      <td>481</td>\n",
              "      <td>19349</td>\n",
              "    </tr>\n",
              "    <tr>\n",
              "      <th>11325</th>\n",
              "      <td>Suzuki</td>\n",
              "      <td>Verona</td>\n",
              "      <td>2005</td>\n",
              "      <td>regular unleaded</td>\n",
              "      <td>155.0</td>\n",
              "      <td>6.0</td>\n",
              "      <td>AUTOMATIC</td>\n",
              "      <td>front wheel drive</td>\n",
              "      <td>4.0</td>\n",
              "      <td>NaN</td>\n",
              "      <td>Midsize</td>\n",
              "      <td>Sedan</td>\n",
              "      <td>25</td>\n",
              "      <td>18</td>\n",
              "      <td>481</td>\n",
              "      <td>21049</td>\n",
              "    </tr>\n",
              "    <tr>\n",
              "      <th>11326</th>\n",
              "      <td>Suzuki</td>\n",
              "      <td>Verona</td>\n",
              "      <td>2005</td>\n",
              "      <td>regular unleaded</td>\n",
              "      <td>155.0</td>\n",
              "      <td>6.0</td>\n",
              "      <td>AUTOMATIC</td>\n",
              "      <td>front wheel drive</td>\n",
              "      <td>4.0</td>\n",
              "      <td>NaN</td>\n",
              "      <td>Midsize</td>\n",
              "      <td>Sedan</td>\n",
              "      <td>25</td>\n",
              "      <td>18</td>\n",
              "      <td>481</td>\n",
              "      <td>17549</td>\n",
              "    </tr>\n",
              "    <tr>\n",
              "      <th>11327</th>\n",
              "      <td>Suzuki</td>\n",
              "      <td>Verona</td>\n",
              "      <td>2005</td>\n",
              "      <td>regular unleaded</td>\n",
              "      <td>155.0</td>\n",
              "      <td>6.0</td>\n",
              "      <td>AUTOMATIC</td>\n",
              "      <td>front wheel drive</td>\n",
              "      <td>4.0</td>\n",
              "      <td>NaN</td>\n",
              "      <td>Midsize</td>\n",
              "      <td>Sedan</td>\n",
              "      <td>25</td>\n",
              "      <td>18</td>\n",
              "      <td>481</td>\n",
              "      <td>20549</td>\n",
              "    </tr>\n",
              "    <tr>\n",
              "      <th>11328</th>\n",
              "      <td>Suzuki</td>\n",
              "      <td>Verona</td>\n",
              "      <td>2006</td>\n",
              "      <td>regular unleaded</td>\n",
              "      <td>155.0</td>\n",
              "      <td>6.0</td>\n",
              "      <td>AUTOMATIC</td>\n",
              "      <td>front wheel drive</td>\n",
              "      <td>4.0</td>\n",
              "      <td>NaN</td>\n",
              "      <td>Midsize</td>\n",
              "      <td>Sedan</td>\n",
              "      <td>25</td>\n",
              "      <td>17</td>\n",
              "      <td>481</td>\n",
              "      <td>20299</td>\n",
              "    </tr>\n",
              "    <tr>\n",
              "      <th>11329</th>\n",
              "      <td>Suzuki</td>\n",
              "      <td>Verona</td>\n",
              "      <td>2006</td>\n",
              "      <td>regular unleaded</td>\n",
              "      <td>155.0</td>\n",
              "      <td>6.0</td>\n",
              "      <td>AUTOMATIC</td>\n",
              "      <td>front wheel drive</td>\n",
              "      <td>4.0</td>\n",
              "      <td>NaN</td>\n",
              "      <td>Midsize</td>\n",
              "      <td>Sedan</td>\n",
              "      <td>25</td>\n",
              "      <td>17</td>\n",
              "      <td>481</td>\n",
              "      <td>18299</td>\n",
              "    </tr>\n",
              "  </tbody>\n",
              "</table>\n",
              "</div>"
            ],
            "text/plain": [
              "         Make   Model  Year  Engine Fuel Type  Engine HP  Engine Cylinders  \\\n",
              "11321  Suzuki  Verona  2004               NaN      155.0               6.0   \n",
              "11322  Suzuki  Verona  2004               NaN      155.0               6.0   \n",
              "11323  Suzuki  Verona  2004               NaN      155.0               6.0   \n",
              "11324  Suzuki  Verona  2005  regular unleaded      155.0               6.0   \n",
              "11325  Suzuki  Verona  2005  regular unleaded      155.0               6.0   \n",
              "11326  Suzuki  Verona  2005  regular unleaded      155.0               6.0   \n",
              "11327  Suzuki  Verona  2005  regular unleaded      155.0               6.0   \n",
              "11328  Suzuki  Verona  2006  regular unleaded      155.0               6.0   \n",
              "11329  Suzuki  Verona  2006  regular unleaded      155.0               6.0   \n",
              "\n",
              "      Transmission Type      Driven_Wheels  Number of Doors Market Category  \\\n",
              "11321         AUTOMATIC  front wheel drive              4.0             NaN   \n",
              "11322         AUTOMATIC  front wheel drive              4.0             NaN   \n",
              "11323         AUTOMATIC  front wheel drive              4.0             NaN   \n",
              "11324         AUTOMATIC  front wheel drive              4.0             NaN   \n",
              "11325         AUTOMATIC  front wheel drive              4.0             NaN   \n",
              "11326         AUTOMATIC  front wheel drive              4.0             NaN   \n",
              "11327         AUTOMATIC  front wheel drive              4.0             NaN   \n",
              "11328         AUTOMATIC  front wheel drive              4.0             NaN   \n",
              "11329         AUTOMATIC  front wheel drive              4.0             NaN   \n",
              "\n",
              "      Vehicle Size Vehicle Style  highway MPG  city mpg  Popularity   MSRP  \n",
              "11321      Midsize         Sedan           25        17         481  17199  \n",
              "11322      Midsize         Sedan           25        17         481  20199  \n",
              "11323      Midsize         Sedan           25        17         481  18499  \n",
              "11324      Midsize         Sedan           25        18         481  19349  \n",
              "11325      Midsize         Sedan           25        18         481  21049  \n",
              "11326      Midsize         Sedan           25        18         481  17549  \n",
              "11327      Midsize         Sedan           25        18         481  20549  \n",
              "11328      Midsize         Sedan           25        17         481  20299  \n",
              "11329      Midsize         Sedan           25        17         481  18299  "
            ]
          },
          "execution_count": 154,
          "metadata": {},
          "output_type": "execute_result"
        }
      ],
      "source": [
        "df[df['Model']=='Verona']"
      ]
    },
    {
      "cell_type": "code",
      "execution_count": 155,
      "id": "70d72578",
      "metadata": {
        "colab": {
          "base_uri": "https://localhost:8080/",
          "height": 36
        },
        "id": "70d72578",
        "outputId": "60b606a9-7405-48ce-c2df-662358e37887"
      },
      "outputs": [
        {
          "data": {
            "text/plain": [
              "'regular unleaded'"
            ]
          },
          "execution_count": 155,
          "metadata": {},
          "output_type": "execute_result"
        }
      ],
      "source": [
        "df['Engine Fuel Type'].mode()[0]"
      ]
    },
    {
      "cell_type": "code",
      "execution_count": 156,
      "id": "bb24ce01",
      "metadata": {
        "id": "bb24ce01"
      },
      "outputs": [],
      "source": [
        "# Fill missing values in 'Engine Fuel Type' with the mode Bec it has 3 only missing values\n",
        "df['Engine Fuel Type']=df['Engine Fuel Type'].fillna(df['Engine Fuel Type'].mode()[0])"
      ]
    },
    {
      "cell_type": "code",
      "execution_count": 157,
      "id": "180ec907",
      "metadata": {
        "colab": {
          "base_uri": "https://localhost:8080/",
          "height": 585
        },
        "id": "180ec907",
        "outputId": "59a9da99-e4d6-4449-c199-be98fb15f9e1"
      },
      "outputs": [
        {
          "data": {
            "text/plain": [
              "Make                    0\n",
              "Model                   0\n",
              "Year                    0\n",
              "Engine Fuel Type        0\n",
              "Engine HP               0\n",
              "Engine Cylinders        0\n",
              "Transmission Type       0\n",
              "Driven_Wheels           0\n",
              "Number of Doors         0\n",
              "Market Category      3742\n",
              "Vehicle Size            0\n",
              "Vehicle Style           0\n",
              "highway MPG             0\n",
              "city mpg                0\n",
              "Popularity              0\n",
              "MSRP                    0\n",
              "dtype: int64"
            ]
          },
          "execution_count": 157,
          "metadata": {},
          "output_type": "execute_result"
        }
      ],
      "source": [
        "df.isnull().sum()"
      ]
    },
    {
      "cell_type": "markdown",
      "id": "8942dc06",
      "metadata": {
        "id": "8942dc06"
      },
      "source": [
        "## Market Category\n",
        "has 31% Missing Data, so it'll be dropped"
      ]
    },
    {
      "cell_type": "code",
      "execution_count": 158,
      "id": "cb29f9f6",
      "metadata": {
        "id": "cb29f9f6"
      },
      "outputs": [],
      "source": [
        "df.drop('Market Category',axis=1,inplace=True)"
      ]
    },
    {
      "cell_type": "markdown",
      "id": "6ae17a3e",
      "metadata": {
        "id": "6ae17a3e"
      },
      "source": [
        "## Model Column Handling\n",
        "`Model` has so many unique values (dropped)\n"
      ]
    },
    {
      "cell_type": "code",
      "execution_count": 159,
      "id": "7c8aba81",
      "metadata": {
        "id": "7c8aba81"
      },
      "outputs": [],
      "source": [
        "df.drop('Model',axis=1,inplace=True)"
      ]
    },
    {
      "cell_type": "code",
      "execution_count": 160,
      "id": "aacba7d9",
      "metadata": {
        "colab": {
          "base_uri": "https://localhost:8080/",
          "height": 523
        },
        "id": "aacba7d9",
        "outputId": "4cc2e3d2-a4c6-4e49-f6b9-3b86f7131dba"
      },
      "outputs": [
        {
          "data": {
            "text/plain": [
              "Make                 0\n",
              "Year                 0\n",
              "Engine Fuel Type     0\n",
              "Engine HP            0\n",
              "Engine Cylinders     0\n",
              "Transmission Type    0\n",
              "Driven_Wheels        0\n",
              "Number of Doors      0\n",
              "Vehicle Size         0\n",
              "Vehicle Style        0\n",
              "highway MPG          0\n",
              "city mpg             0\n",
              "Popularity           0\n",
              "MSRP                 0\n",
              "dtype: int64"
            ]
          },
          "execution_count": 160,
          "metadata": {},
          "output_type": "execute_result"
        }
      ],
      "source": [
        "df.isnull().sum()"
      ]
    },
    {
      "cell_type": "markdown",
      "id": "wODevpTqshsQ",
      "metadata": {
        "id": "wODevpTqshsQ"
      },
      "source": [
        "## Duplicate Values"
      ]
    },
    {
      "cell_type": "code",
      "execution_count": 161,
      "id": "bG2Dwar2sTx_",
      "metadata": {
        "colab": {
          "base_uri": "https://localhost:8080/"
        },
        "id": "bG2Dwar2sTx_",
        "outputId": "84ad2a71-f9dc-4e50-e5b5-3a8acb9b7c34"
      },
      "outputs": [
        {
          "data": {
            "text/plain": [
              "np.int64(729)"
            ]
          },
          "execution_count": 161,
          "metadata": {},
          "output_type": "execute_result"
        }
      ],
      "source": [
        "df.duplicated().sum()"
      ]
    },
    {
      "cell_type": "code",
      "execution_count": 162,
      "id": "9fWr_E9wsgOp",
      "metadata": {
        "colab": {
          "base_uri": "https://localhost:8080/"
        },
        "id": "9fWr_E9wsgOp",
        "outputId": "27c8ad14-2bf8-4436-8325-d87a4afc8f33"
      },
      "outputs": [
        {
          "name": "stdout",
          "output_type": "stream",
          "text": [
            "         Make  Year             Engine Fuel Type  Engine HP  Engine Cylinders  \\\n",
            "11        BMW  2013  premium unleaded (required)      230.0               6.0   \n",
            "14        BMW  2013  premium unleaded (required)      230.0               6.0   \n",
            "17       Audi  1992             regular unleaded      172.0               6.0   \n",
            "18       Audi  1992             regular unleaded      172.0               6.0   \n",
            "20       Audi  1992             regular unleaded      172.0               6.0   \n",
            "...       ...   ...                          ...        ...               ...   \n",
            "11604   Volvo  2017             regular unleaded      240.0               4.0   \n",
            "11707  Suzuki  2008             regular unleaded      252.0               6.0   \n",
            "11708  Suzuki  2008             regular unleaded      252.0               6.0   \n",
            "11709  Suzuki  2008             regular unleaded      252.0               6.0   \n",
            "11717  Suzuki  2008             regular unleaded      252.0               6.0   \n",
            "\n",
            "      Transmission Type      Driven_Wheels  Number of Doors Vehicle Size  \\\n",
            "11               MANUAL   rear wheel drive              2.0      Compact   \n",
            "14               MANUAL   rear wheel drive              2.0      Compact   \n",
            "17               MANUAL  front wheel drive              4.0      Midsize   \n",
            "18               MANUAL  front wheel drive              4.0      Midsize   \n",
            "20               MANUAL  front wheel drive              4.0      Midsize   \n",
            "...                 ...                ...              ...          ...   \n",
            "11604         AUTOMATIC  front wheel drive              4.0      Midsize   \n",
            "11707         AUTOMATIC    all wheel drive              4.0      Midsize   \n",
            "11708         AUTOMATIC    all wheel drive              4.0      Midsize   \n",
            "11709         AUTOMATIC  front wheel drive              4.0      Midsize   \n",
            "11717         AUTOMATIC  front wheel drive              4.0      Midsize   \n",
            "\n",
            "      Vehicle Style  highway MPG  city mpg  Popularity   MSRP  \n",
            "11            Coupe           28        19        3916  31500  \n",
            "14            Coupe           28        19        3916  31500  \n",
            "17            Sedan           24        17        3105   2000  \n",
            "18            Sedan           24        17        3105   2000  \n",
            "20            Sedan           24        17        3105   2000  \n",
            "...             ...          ...       ...         ...    ...  \n",
            "11604       4dr SUV           30        23         870  40950  \n",
            "11707       4dr SUV           22        15         481  29149  \n",
            "11708       4dr SUV           22        15         481  29149  \n",
            "11709       4dr SUV           22        16         481  27499  \n",
            "11717       4dr SUV           22        16         481  27499  \n",
            "\n",
            "[1349 rows x 14 columns]\n"
          ]
        }
      ],
      "source": [
        "duplicate_rows = df[df.duplicated(keep=False)]\n",
        "print(duplicate_rows)"
      ]
    },
    {
      "cell_type": "markdown",
      "id": "1QbJqYl9tM3E",
      "metadata": {
        "id": "1QbJqYl9tM3E"
      },
      "source": [
        "## Decide Based on Goal\n",
        "The domain and goal should guide us to what should be done with this large exact duplicates. Since our goal is to predict MSRP, we'll keep only unique rows; duplicates can bias the model."
      ]
    },
    {
      "cell_type": "code",
      "execution_count": 163,
      "id": "X7l1CJDbtqNZ",
      "metadata": {
        "id": "X7l1CJDbtqNZ"
      },
      "outputs": [],
      "source": [
        "# remove exact duplicates\n",
        "df.drop_duplicates(inplace=True)"
      ]
    },
    {
      "cell_type": "markdown",
      "id": "b66eacee",
      "metadata": {
        "id": "b66eacee"
      },
      "source": [
        "# Correlataion"
      ]
    },
    {
      "cell_type": "code",
      "execution_count": 164,
      "id": "73a6fc7b",
      "metadata": {
        "colab": {
          "base_uri": "https://localhost:8080/",
          "height": 781
        },
        "id": "73a6fc7b",
        "outputId": "030b22ae-e477-4cac-cc5f-5c6cd6abf199"
      },
      "outputs": [
        {
          "data": {
            "image/png": "[encoded data removed]",
            "text/plain": [
              "<Figure size 1400x800 with 2 Axes>"
            ]
          },
          "metadata": {},
          "output_type": "display_data"
        }
      ],
      "source": [
        "import matplotlib.pyplot as plt\n",
        "import seaborn as sns\n",
        "\n",
        "corr = df.corr(numeric_only=True)\n",
        "\n",
        "# Plot heatmap\n",
        "plt.figure(figsize=(14, 8))\n",
        "sns.heatmap(corr, annot=True, fmt=\".2f\", cmap=\"coolwarm\", cbar=True)\n",
        "plt.title(\"Correlation Heatmap\")\n",
        "plt.show()"
      ]
    },
    {
      "cell_type": "markdown",
      "id": "657e072a",
      "metadata": {
        "id": "657e072a"
      },
      "source": [
        "# Hypothesis"
      ]
    },
    {
      "cell_type": "markdown",
      "id": "668437a9",
      "metadata": {
        "id": "668437a9"
      },
      "source": [
        "## Price vs. Age\n",
        "We wanted to see if there was a relationship between a cars age (Year) and its price (MSRP) and we discovered that the correlation is positive (0.23) This suggests that **newer cars tend to be more expensive** than older ones though the relationship is **relatively weak**.\n",
        "\n",
        "## Price vs. HP\n",
        "We wanted to see if there was a relationship between a cars engine power (Horsepower) and its price (MSRP) and we discovered that the correlation is strongly positive (0.66). This indicates that **cars with higher horsepower generally cost more**.\n",
        "\n",
        "## Price vs. Popularity\n",
        "\n",
        "From the heatmap, MSRP and Popularity have a very weak negative correlation (-0.05). This suggests that **high price does not guarantee popularity**, and popular cars are often mid-range or budget-friendly options that balance price, performance, and efficiency."
      ]
    },
    {
      "cell_type": "code",
      "execution_count": 165,
      "id": "e8616163",
      "metadata": {
        "id": "e8616163"
      },
      "outputs": [],
      "source": [
        "# bec it has high correlation with city mpg\n",
        "#MSRP Is affected by Engine HP, Engine Cylinders\n",
        "#Engine HP Is affected by Engine Cylinders\n",
        "df.drop('highway MPG',axis=1,inplace=True)"
      ]
    },
    {
      "cell_type": "markdown",
      "id": "1bcc6d7e",
      "metadata": {
        "id": "1bcc6d7e"
      },
      "source": [
        "# Outliers"
      ]
    },
    {
      "cell_type": "code",
      "execution_count": 166,
      "id": "4a6f9b20",
      "metadata": {
        "id": "4a6f9b20"
      },
      "outputs": [
        {
          "data": {
            "image/png": "[encoded data removed]",
            "text/plain": [
              "<Figure size 1200x800 with 4 Axes>"
            ]
          },
          "metadata": {},
          "output_type": "display_data"
        }
      ],
      "source": [
        "import matplotlib.pyplot as plt\n",
        "import seaborn as sns\n",
        "\n",
        "# Select numerical columns to visualize\n",
        "num_cols = [\"Engine HP\", \"Engine Cylinders\", \"city mpg\", \"MSRP\"]\n",
        "\n",
        "plt.figure(figsize=(12, 8))\n",
        "for i, col in enumerate(num_cols, 1):\n",
        "    plt.subplot(2, 3, i)\n",
        "    sns.boxplot(y=df[col])\n",
        "    plt.title(f\"Boxplot of {col}\")\n",
        "\n",
        "plt.tight_layout()\n",
        "plt.show()"
      ]
    },
    {
      "cell_type": "markdown",
      "id": "cc880305",
      "metadata": {
        "id": "cc880305"
      },
      "source": [
        "## Engine HP Outliers\n",
        "Engine HP & MSRP & Cylinders->  Outliers caused by luxury/supercars.\n",
        "\n",
        " City MPG -> bad data\n"
      ]
    },
    {
      "cell_type": "markdown",
      "id": "e45b870b",
      "metadata": {
        "id": "e45b870b"
      },
      "source": [
        "### Imputation of outliers\n",
        "Since the data follows a **roughly normal distribution** (median = 18, mean = 19.73, and standard deviation = 6.7, which indicates **low variation**), we chose to **impute outliers using the mean** value rather than the median.\n"
      ]
    },
    {
      "cell_type": "code",
      "execution_count": 167,
      "id": "30b1a1b0",
      "metadata": {
        "colab": {
          "base_uri": "https://localhost:8080/"
        },
        "id": "30b1a1b0",
        "outputId": "f66118fb-e32b-48e0-ba64-43757e3e3a9e"
      },
      "outputs": [
        {
          "name": "stderr",
          "output_type": "stream",
          "text": [
            "C:\\Users\\amamr\\AppData\\Local\\Temp\\ipykernel_26452\\1790759363.py:4: FutureWarning: Setting an item of incompatible dtype is deprecated and will raise an error in a future version of pandas. Value '19.735628073312473' has dtype incompatible with int64, please explicitly cast to a compatible dtype first.\n",
            "  df.loc[df[\"city mpg\"] > Max_CITY_MPG, \"city mpg\"] = df['city mpg'].mean()\n"
          ]
        }
      ],
      "source": [
        "IQR_OF_CITY_MPG = df['city mpg'].quantile(0.75) - df['city mpg'].quantile(0.25)\n",
        "Max_CITY_MPG = df['city mpg'].quantile(0.75) + 1.5 * IQR_OF_CITY_MPG\n",
        "Max_CITY_MPG\n",
        "df.loc[df[\"city mpg\"] > Max_CITY_MPG, \"city mpg\"] = df['city mpg'].mean()"
      ]
    },
    {
      "cell_type": "code",
      "execution_count": 168,
      "id": "1f9d6c88",
      "metadata": {
        "id": "1f9d6c88"
      },
      "outputs": [],
      "source": [
        "import matplotlib.pyplot as plt\n",
        "import seaborn as sns\n",
        "\n",
        "# # Select numerical columns to visualize\n",
        "# num_cols = [\"Engine HP\", \"Engine Cylinders\", \"highway MPG\", \"city mpg\", \"MSRP\"]\n",
        "\n",
        "# plt.figure(figsize=(12, 8))\n",
        "# for i, col in enumerate(num_cols, 1):\n",
        "#     plt.subplot(2, 3, i)\n",
        "#     sns.boxplot(y=df[col])\n",
        "#     plt.title(f\"Boxplot of {col}\")\n",
        "\n",
        "# plt.tight_layout()\n",
        "# plt.show()\n"
      ]
    },
    {
      "cell_type": "markdown",
      "id": "286ee7c4",
      "metadata": {
        "id": "286ee7c4"
      },
      "source": [
        " # Categorizing Cars as Luxury or Normal"
      ]
    },
    {
      "cell_type": "code",
      "execution_count": 169,
      "id": "de68bbad",
      "metadata": {
        "colab": {
          "base_uri": "https://localhost:8080/",
          "height": 178
        },
        "id": "de68bbad",
        "outputId": "61d43600-c74a-44e5-bda5-e35a5b5b1479"
      },
      "outputs": [
        {
          "data": {
            "text/plain": [
              "Car_Type\n",
              "Normal    10471\n",
              "Luxury      714\n",
              "Name: count, dtype: int64"
            ]
          },
          "execution_count": 169,
          "metadata": {},
          "output_type": "execute_result"
        }
      ],
      "source": [
        "\n",
        "df[\"Car_Type\"] = \"Normal\"\n",
        "df.loc[(df[\"MSRP\"] > 100000) | (df[\"Engine HP\"] > 500), \"Car_Type\"] = \"Luxury\"\n",
        "df[\"Car_Type\"].value_counts()"
      ]
    },
    {
      "cell_type": "markdown",
      "id": "d82a7466",
      "metadata": {
        "id": "d82a7466"
      },
      "source": [
        "# Extract Clean Data"
      ]
    },
    {
      "cell_type": "markdown",
      "id": "e82dac95",
      "metadata": {},
      "source": []
    },
    {
      "cell_type": "code",
      "execution_count": 170,
      "id": "986f127f",
      "metadata": {
        "id": "986f127f"
      },
      "outputs": [],
      "source": [
        "df.to_csv('../data/cleaned_data.csv', index=False)"
      ]
    },
    {
      "cell_type": "markdown",
      "id": "5d95330a",
      "metadata": {
        "id": "5d95330a"
      },
      "source": [
        "# Feature Engineering"
      ]
    },
    {
      "cell_type": "code",
      "execution_count": 171,
      "id": "6da6c6d6",
      "metadata": {
        "colab": {
          "base_uri": "https://localhost:8080/"
        },
        "id": "6da6c6d6",
        "outputId": "fb49e357-6d6b-4c44-ba1c-ba70b865fbea"
      },
      "outputs": [
        {
          "data": {
            "text/plain": [
              "array(['rear wheel drive', 'front wheel drive', 'all wheel drive',\n",
              "       'four wheel drive'], dtype=object)"
            ]
          },
          "execution_count": 171,
          "metadata": {},
          "output_type": "execute_result"
        }
      ],
      "source": [
        "df['Driven_Wheels'].unique()"
      ]
    },
    {
      "cell_type": "code",
      "execution_count": 172,
      "id": "5de4b858",
      "metadata": {
        "colab": {
          "base_uri": "https://localhost:8080/"
        },
        "id": "5de4b858",
        "outputId": "aad4da9e-a29e-4cd8-ec08-d6769edffcdb"
      },
      "outputs": [
        {
          "data": {
            "text/plain": [
              "array(['Compact', 'Midsize', 'Large'], dtype=object)"
            ]
          },
          "execution_count": 172,
          "metadata": {},
          "output_type": "execute_result"
        }
      ],
      "source": [
        "df['Vehicle Size'].unique()"
      ]
    },
    {
      "cell_type": "code",
      "execution_count": 173,
      "id": "eed2a25e",
      "metadata": {
        "colab": {
          "base_uri": "https://localhost:8080/"
        },
        "id": "eed2a25e",
        "outputId": "65f90fe5-e7ce-4b6f-dd00-ca52c1e68de8"
      },
      "outputs": [
        {
          "data": {
            "text/plain": [
              "array(['Coupe', 'Convertible', 'Sedan', 'Wagon', '4dr Hatchback',\n",
              "       '2dr Hatchback', '4dr SUV', 'Passenger Minivan', 'Cargo Minivan',\n",
              "       'Crew Cab Pickup', 'Regular Cab Pickup', 'Extended Cab Pickup',\n",
              "       '2dr SUV', 'Cargo Van', 'Convertible SUV', 'Passenger Van'],\n",
              "      dtype=object)"
            ]
          },
          "execution_count": 173,
          "metadata": {},
          "output_type": "execute_result"
        }
      ],
      "source": [
        "df['Vehicle Style'].unique()"
      ]
    },
    {
      "cell_type": "code",
      "execution_count": 174,
      "id": "b534014b",
      "metadata": {
        "colab": {
          "base_uri": "https://localhost:8080/"
        },
        "id": "b534014b",
        "outputId": "21bc0ff6-4e9d-4853-f560-759b681d372b"
      },
      "outputs": [
        {
          "data": {
            "text/plain": [
              "(11185, 14)"
            ]
          },
          "execution_count": 174,
          "metadata": {},
          "output_type": "execute_result"
        }
      ],
      "source": [
        "Top_15_makes = df['Make'].value_counts().head(15).index\n",
        "Top_15_makes\n",
        "# i will keep only the top 15 makes and make the other ones all as others\n",
        "df['Make'] = df['Make'].apply(lambda x: x if x in Top_15_makes else 'Other')\n",
        "df.shape"
      ]
    },
    {
      "cell_type": "code",
      "execution_count": 175,
      "id": "42ec16c6",
      "metadata": {
        "id": "42ec16c6"
      },
      "outputs": [],
      "source": [
        "# Since it has many categorical features And not Ordinal features, we'll use One-Hot Encoding\n",
        "df = pd.get_dummies(df, columns=['Car_Type','Make','Engine Fuel Type','Driven_Wheels','Transmission Type', 'Vehicle Size', 'Vehicle Style'], drop_first=True)\n"
      ]
    },
    {
      "cell_type": "code",
      "execution_count": 176,
      "id": "d4b63d55",
      "metadata": {
        "colab": {
          "base_uri": "https://localhost:8080/",
          "height": 452
        },
        "id": "d4b63d55",
        "outputId": "bb2ee30d-0199-49fe-9ebd-9bb62e280b82"
      },
      "outputs": [
        {
          "data": {
            "text/html": [
              "<div>\n",
              "<style scoped>\n",
              "    .dataframe tbody tr th:only-of-type {\n",
              "        vertical-align: middle;\n",
              "    }\n",
              "\n",
              "    .dataframe tbody tr th {\n",
              "        vertical-align: top;\n",
              "    }\n",
              "\n",
              "    .dataframe thead th {\n",
              "        text-align: right;\n",
              "    }\n",
              "</style>\n",
              "<table border=\"1\" class=\"dataframe\">\n",
              "  <thead>\n",
              "    <tr style=\"text-align: right;\">\n",
              "      <th></th>\n",
              "      <th>Year</th>\n",
              "      <th>Engine HP</th>\n",
              "      <th>Engine Cylinders</th>\n",
              "      <th>Number of Doors</th>\n",
              "      <th>city mpg</th>\n",
              "      <th>Popularity</th>\n",
              "      <th>MSRP</th>\n",
              "      <th>Car_Type_Normal</th>\n",
              "      <th>Make_BMW</th>\n",
              "      <th>Make_Cadillac</th>\n",
              "      <th>Make_Chevrolet</th>\n",
              "      <th>Make_Dodge</th>\n",
              "      <th>Make_Ford</th>\n",
              "      <th>Make_GMC</th>\n",
              "      <th>Make_Honda</th>\n",
              "      <th>Make_Infiniti</th>\n",
              "      <th>Make_Mazda</th>\n",
              "      <th>Make_Mercedes-Benz</th>\n",
              "      <th>Make_Nissan</th>\n",
              "      <th>Make_Other</th>\n",
              "      <th>Make_Suzuki</th>\n",
              "      <th>Make_Toyota</th>\n",
              "      <th>Make_Volkswagen</th>\n",
              "      <th>Engine Fuel Type_electric</th>\n",
              "      <th>Engine Fuel Type_flex-fuel (premium unleaded recommended/E85)</th>\n",
              "      <th>Engine Fuel Type_flex-fuel (premium unleaded required/E85)</th>\n",
              "      <th>Engine Fuel Type_flex-fuel (unleaded/E85)</th>\n",
              "      <th>Engine Fuel Type_flex-fuel (unleaded/natural gas)</th>\n",
              "      <th>Engine Fuel Type_natural gas</th>\n",
              "      <th>Engine Fuel Type_premium unleaded (recommended)</th>\n",
              "      <th>Engine Fuel Type_premium unleaded (required)</th>\n",
              "      <th>Engine Fuel Type_regular unleaded</th>\n",
              "      <th>Driven_Wheels_four wheel drive</th>\n",
              "      <th>Driven_Wheels_front wheel drive</th>\n",
              "      <th>Driven_Wheels_rear wheel drive</th>\n",
              "      <th>Transmission Type_AUTOMATIC</th>\n",
              "      <th>Transmission Type_DIRECT_DRIVE</th>\n",
              "      <th>Transmission Type_MANUAL</th>\n",
              "      <th>Transmission Type_UNKNOWN</th>\n",
              "      <th>Vehicle Size_Large</th>\n",
              "      <th>Vehicle Size_Midsize</th>\n",
              "      <th>Vehicle Style_2dr SUV</th>\n",
              "      <th>Vehicle Style_4dr Hatchback</th>\n",
              "      <th>Vehicle Style_4dr SUV</th>\n",
              "      <th>Vehicle Style_Cargo Minivan</th>\n",
              "      <th>Vehicle Style_Cargo Van</th>\n",
              "      <th>Vehicle Style_Convertible</th>\n",
              "      <th>Vehicle Style_Convertible SUV</th>\n",
              "      <th>Vehicle Style_Coupe</th>\n",
              "      <th>Vehicle Style_Crew Cab Pickup</th>\n",
              "      <th>Vehicle Style_Extended Cab Pickup</th>\n",
              "      <th>Vehicle Style_Passenger Minivan</th>\n",
              "      <th>Vehicle Style_Passenger Van</th>\n",
              "      <th>Vehicle Style_Regular Cab Pickup</th>\n",
              "      <th>Vehicle Style_Sedan</th>\n",
              "      <th>Vehicle Style_Wagon</th>\n",
              "    </tr>\n",
              "  </thead>\n",
              "  <tbody>\n",
              "    <tr>\n",
              "      <th>0</th>\n",
              "      <td>2011</td>\n",
              "      <td>335.0</td>\n",
              "      <td>6.0</td>\n",
              "      <td>2.0</td>\n",
              "      <td>19.0</td>\n",
              "      <td>3916</td>\n",
              "      <td>46135</td>\n",
              "      <td>True</td>\n",
              "      <td>True</td>\n",
              "      <td>False</td>\n",
              "      <td>False</td>\n",
              "      <td>False</td>\n",
              "      <td>False</td>\n",
              "      <td>False</td>\n",
              "      <td>False</td>\n",
              "      <td>False</td>\n",
              "      <td>False</td>\n",
              "      <td>False</td>\n",
              "      <td>False</td>\n",
              "      <td>False</td>\n",
              "      <td>False</td>\n",
              "      <td>False</td>\n",
              "      <td>False</td>\n",
              "      <td>False</td>\n",
              "      <td>False</td>\n",
              "      <td>False</td>\n",
              "      <td>False</td>\n",
              "      <td>False</td>\n",
              "      <td>False</td>\n",
              "      <td>False</td>\n",
              "      <td>True</td>\n",
              "      <td>False</td>\n",
              "      <td>False</td>\n",
              "      <td>False</td>\n",
              "      <td>True</td>\n",
              "      <td>False</td>\n",
              "      <td>False</td>\n",
              "      <td>True</td>\n",
              "      <td>False</td>\n",
              "      <td>False</td>\n",
              "      <td>False</td>\n",
              "      <td>False</td>\n",
              "      <td>False</td>\n",
              "      <td>False</td>\n",
              "      <td>False</td>\n",
              "      <td>False</td>\n",
              "      <td>False</td>\n",
              "      <td>False</td>\n",
              "      <td>True</td>\n",
              "      <td>False</td>\n",
              "      <td>False</td>\n",
              "      <td>False</td>\n",
              "      <td>False</td>\n",
              "      <td>False</td>\n",
              "      <td>False</td>\n",
              "      <td>False</td>\n",
              "    </tr>\n",
              "    <tr>\n",
              "      <th>1</th>\n",
              "      <td>2011</td>\n",
              "      <td>300.0</td>\n",
              "      <td>6.0</td>\n",
              "      <td>2.0</td>\n",
              "      <td>19.0</td>\n",
              "      <td>3916</td>\n",
              "      <td>40650</td>\n",
              "      <td>True</td>\n",
              "      <td>True</td>\n",
              "      <td>False</td>\n",
              "      <td>False</td>\n",
              "      <td>False</td>\n",
              "      <td>False</td>\n",
              "      <td>False</td>\n",
              "      <td>False</td>\n",
              "      <td>False</td>\n",
              "      <td>False</td>\n",
              "      <td>False</td>\n",
              "      <td>False</td>\n",
              "      <td>False</td>\n",
              "      <td>False</td>\n",
              "      <td>False</td>\n",
              "      <td>False</td>\n",
              "      <td>False</td>\n",
              "      <td>False</td>\n",
              "      <td>False</td>\n",
              "      <td>False</td>\n",
              "      <td>False</td>\n",
              "      <td>False</td>\n",
              "      <td>False</td>\n",
              "      <td>True</td>\n",
              "      <td>False</td>\n",
              "      <td>False</td>\n",
              "      <td>False</td>\n",
              "      <td>True</td>\n",
              "      <td>False</td>\n",
              "      <td>False</td>\n",
              "      <td>True</td>\n",
              "      <td>False</td>\n",
              "      <td>False</td>\n",
              "      <td>False</td>\n",
              "      <td>False</td>\n",
              "      <td>False</td>\n",
              "      <td>False</td>\n",
              "      <td>False</td>\n",
              "      <td>False</td>\n",
              "      <td>True</td>\n",
              "      <td>False</td>\n",
              "      <td>False</td>\n",
              "      <td>False</td>\n",
              "      <td>False</td>\n",
              "      <td>False</td>\n",
              "      <td>False</td>\n",
              "      <td>False</td>\n",
              "      <td>False</td>\n",
              "      <td>False</td>\n",
              "    </tr>\n",
              "    <tr>\n",
              "      <th>2</th>\n",
              "      <td>2011</td>\n",
              "      <td>300.0</td>\n",
              "      <td>6.0</td>\n",
              "      <td>2.0</td>\n",
              "      <td>20.0</td>\n",
              "      <td>3916</td>\n",
              "      <td>36350</td>\n",
              "      <td>True</td>\n",
              "      <td>True</td>\n",
              "      <td>False</td>\n",
              "      <td>False</td>\n",
              "      <td>False</td>\n",
              "      <td>False</td>\n",
              "      <td>False</td>\n",
              "      <td>False</td>\n",
              "      <td>False</td>\n",
              "      <td>False</td>\n",
              "      <td>False</td>\n",
              "      <td>False</td>\n",
              "      <td>False</td>\n",
              "      <td>False</td>\n",
              "      <td>False</td>\n",
              "      <td>False</td>\n",
              "      <td>False</td>\n",
              "      <td>False</td>\n",
              "      <td>False</td>\n",
              "      <td>False</td>\n",
              "      <td>False</td>\n",
              "      <td>False</td>\n",
              "      <td>False</td>\n",
              "      <td>True</td>\n",
              "      <td>False</td>\n",
              "      <td>False</td>\n",
              "      <td>False</td>\n",
              "      <td>True</td>\n",
              "      <td>False</td>\n",
              "      <td>False</td>\n",
              "      <td>True</td>\n",
              "      <td>False</td>\n",
              "      <td>False</td>\n",
              "      <td>False</td>\n",
              "      <td>False</td>\n",
              "      <td>False</td>\n",
              "      <td>False</td>\n",
              "      <td>False</td>\n",
              "      <td>False</td>\n",
              "      <td>False</td>\n",
              "      <td>False</td>\n",
              "      <td>True</td>\n",
              "      <td>False</td>\n",
              "      <td>False</td>\n",
              "      <td>False</td>\n",
              "      <td>False</td>\n",
              "      <td>False</td>\n",
              "      <td>False</td>\n",
              "      <td>False</td>\n",
              "    </tr>\n",
              "    <tr>\n",
              "      <th>3</th>\n",
              "      <td>2011</td>\n",
              "      <td>230.0</td>\n",
              "      <td>6.0</td>\n",
              "      <td>2.0</td>\n",
              "      <td>18.0</td>\n",
              "      <td>3916</td>\n",
              "      <td>29450</td>\n",
              "      <td>True</td>\n",
              "      <td>True</td>\n",
              "      <td>False</td>\n",
              "      <td>False</td>\n",
              "      <td>False</td>\n",
              "      <td>False</td>\n",
              "      <td>False</td>\n",
              "      <td>False</td>\n",
              "      <td>False</td>\n",
              "      <td>False</td>\n",
              "      <td>False</td>\n",
              "      <td>False</td>\n",
              "      <td>False</td>\n",
              "      <td>False</td>\n",
              "      <td>False</td>\n",
              "      <td>False</td>\n",
              "      <td>False</td>\n",
              "      <td>False</td>\n",
              "      <td>False</td>\n",
              "      <td>False</td>\n",
              "      <td>False</td>\n",
              "      <td>False</td>\n",
              "      <td>False</td>\n",
              "      <td>True</td>\n",
              "      <td>False</td>\n",
              "      <td>False</td>\n",
              "      <td>False</td>\n",
              "      <td>True</td>\n",
              "      <td>False</td>\n",
              "      <td>False</td>\n",
              "      <td>True</td>\n",
              "      <td>False</td>\n",
              "      <td>False</td>\n",
              "      <td>False</td>\n",
              "      <td>False</td>\n",
              "      <td>False</td>\n",
              "      <td>False</td>\n",
              "      <td>False</td>\n",
              "      <td>False</td>\n",
              "      <td>False</td>\n",
              "      <td>False</td>\n",
              "      <td>True</td>\n",
              "      <td>False</td>\n",
              "      <td>False</td>\n",
              "      <td>False</td>\n",
              "      <td>False</td>\n",
              "      <td>False</td>\n",
              "      <td>False</td>\n",
              "      <td>False</td>\n",
              "    </tr>\n",
              "    <tr>\n",
              "      <th>4</th>\n",
              "      <td>2011</td>\n",
              "      <td>230.0</td>\n",
              "      <td>6.0</td>\n",
              "      <td>2.0</td>\n",
              "      <td>18.0</td>\n",
              "      <td>3916</td>\n",
              "      <td>34500</td>\n",
              "      <td>True</td>\n",
              "      <td>True</td>\n",
              "      <td>False</td>\n",
              "      <td>False</td>\n",
              "      <td>False</td>\n",
              "      <td>False</td>\n",
              "      <td>False</td>\n",
              "      <td>False</td>\n",
              "      <td>False</td>\n",
              "      <td>False</td>\n",
              "      <td>False</td>\n",
              "      <td>False</td>\n",
              "      <td>False</td>\n",
              "      <td>False</td>\n",
              "      <td>False</td>\n",
              "      <td>False</td>\n",
              "      <td>False</td>\n",
              "      <td>False</td>\n",
              "      <td>False</td>\n",
              "      <td>False</td>\n",
              "      <td>False</td>\n",
              "      <td>False</td>\n",
              "      <td>False</td>\n",
              "      <td>True</td>\n",
              "      <td>False</td>\n",
              "      <td>False</td>\n",
              "      <td>False</td>\n",
              "      <td>True</td>\n",
              "      <td>False</td>\n",
              "      <td>False</td>\n",
              "      <td>True</td>\n",
              "      <td>False</td>\n",
              "      <td>False</td>\n",
              "      <td>False</td>\n",
              "      <td>False</td>\n",
              "      <td>False</td>\n",
              "      <td>False</td>\n",
              "      <td>False</td>\n",
              "      <td>False</td>\n",
              "      <td>True</td>\n",
              "      <td>False</td>\n",
              "      <td>False</td>\n",
              "      <td>False</td>\n",
              "      <td>False</td>\n",
              "      <td>False</td>\n",
              "      <td>False</td>\n",
              "      <td>False</td>\n",
              "      <td>False</td>\n",
              "      <td>False</td>\n",
              "    </tr>\n",
              "    <tr>\n",
              "      <th>5</th>\n",
              "      <td>2012</td>\n",
              "      <td>230.0</td>\n",
              "      <td>6.0</td>\n",
              "      <td>2.0</td>\n",
              "      <td>18.0</td>\n",
              "      <td>3916</td>\n",
              "      <td>31200</td>\n",
              "      <td>True</td>\n",
              "      <td>True</td>\n",
              "      <td>False</td>\n",
              "      <td>False</td>\n",
              "      <td>False</td>\n",
              "      <td>False</td>\n",
              "      <td>False</td>\n",
              "      <td>False</td>\n",
              "      <td>False</td>\n",
              "      <td>False</td>\n",
              "      <td>False</td>\n",
              "      <td>False</td>\n",
              "      <td>False</td>\n",
              "      <td>False</td>\n",
              "      <td>False</td>\n",
              "      <td>False</td>\n",
              "      <td>False</td>\n",
              "      <td>False</td>\n",
              "      <td>False</td>\n",
              "      <td>False</td>\n",
              "      <td>False</td>\n",
              "      <td>False</td>\n",
              "      <td>False</td>\n",
              "      <td>True</td>\n",
              "      <td>False</td>\n",
              "      <td>False</td>\n",
              "      <td>False</td>\n",
              "      <td>True</td>\n",
              "      <td>False</td>\n",
              "      <td>False</td>\n",
              "      <td>True</td>\n",
              "      <td>False</td>\n",
              "      <td>False</td>\n",
              "      <td>False</td>\n",
              "      <td>False</td>\n",
              "      <td>False</td>\n",
              "      <td>False</td>\n",
              "      <td>False</td>\n",
              "      <td>False</td>\n",
              "      <td>False</td>\n",
              "      <td>False</td>\n",
              "      <td>True</td>\n",
              "      <td>False</td>\n",
              "      <td>False</td>\n",
              "      <td>False</td>\n",
              "      <td>False</td>\n",
              "      <td>False</td>\n",
              "      <td>False</td>\n",
              "      <td>False</td>\n",
              "    </tr>\n",
              "    <tr>\n",
              "      <th>6</th>\n",
              "      <td>2012</td>\n",
              "      <td>300.0</td>\n",
              "      <td>6.0</td>\n",
              "      <td>2.0</td>\n",
              "      <td>17.0</td>\n",
              "      <td>3916</td>\n",
              "      <td>44100</td>\n",
              "      <td>True</td>\n",
              "      <td>True</td>\n",
              "      <td>False</td>\n",
              "      <td>False</td>\n",
              "      <td>False</td>\n",
              "      <td>False</td>\n",
              "      <td>False</td>\n",
              "      <td>False</td>\n",
              "      <td>False</td>\n",
              "      <td>False</td>\n",
              "      <td>False</td>\n",
              "      <td>False</td>\n",
              "      <td>False</td>\n",
              "      <td>False</td>\n",
              "      <td>False</td>\n",
              "      <td>False</td>\n",
              "      <td>False</td>\n",
              "      <td>False</td>\n",
              "      <td>False</td>\n",
              "      <td>False</td>\n",
              "      <td>False</td>\n",
              "      <td>False</td>\n",
              "      <td>False</td>\n",
              "      <td>True</td>\n",
              "      <td>False</td>\n",
              "      <td>False</td>\n",
              "      <td>False</td>\n",
              "      <td>True</td>\n",
              "      <td>False</td>\n",
              "      <td>False</td>\n",
              "      <td>True</td>\n",
              "      <td>False</td>\n",
              "      <td>False</td>\n",
              "      <td>False</td>\n",
              "      <td>False</td>\n",
              "      <td>False</td>\n",
              "      <td>False</td>\n",
              "      <td>False</td>\n",
              "      <td>False</td>\n",
              "      <td>True</td>\n",
              "      <td>False</td>\n",
              "      <td>False</td>\n",
              "      <td>False</td>\n",
              "      <td>False</td>\n",
              "      <td>False</td>\n",
              "      <td>False</td>\n",
              "      <td>False</td>\n",
              "      <td>False</td>\n",
              "      <td>False</td>\n",
              "    </tr>\n",
              "    <tr>\n",
              "      <th>7</th>\n",
              "      <td>2012</td>\n",
              "      <td>300.0</td>\n",
              "      <td>6.0</td>\n",
              "      <td>2.0</td>\n",
              "      <td>20.0</td>\n",
              "      <td>3916</td>\n",
              "      <td>39300</td>\n",
              "      <td>True</td>\n",
              "      <td>True</td>\n",
              "      <td>False</td>\n",
              "      <td>False</td>\n",
              "      <td>False</td>\n",
              "      <td>False</td>\n",
              "      <td>False</td>\n",
              "      <td>False</td>\n",
              "      <td>False</td>\n",
              "      <td>False</td>\n",
              "      <td>False</td>\n",
              "      <td>False</td>\n",
              "      <td>False</td>\n",
              "      <td>False</td>\n",
              "      <td>False</td>\n",
              "      <td>False</td>\n",
              "      <td>False</td>\n",
              "      <td>False</td>\n",
              "      <td>False</td>\n",
              "      <td>False</td>\n",
              "      <td>False</td>\n",
              "      <td>False</td>\n",
              "      <td>False</td>\n",
              "      <td>True</td>\n",
              "      <td>False</td>\n",
              "      <td>False</td>\n",
              "      <td>False</td>\n",
              "      <td>True</td>\n",
              "      <td>False</td>\n",
              "      <td>False</td>\n",
              "      <td>True</td>\n",
              "      <td>False</td>\n",
              "      <td>False</td>\n",
              "      <td>False</td>\n",
              "      <td>False</td>\n",
              "      <td>False</td>\n",
              "      <td>False</td>\n",
              "      <td>False</td>\n",
              "      <td>False</td>\n",
              "      <td>False</td>\n",
              "      <td>False</td>\n",
              "      <td>True</td>\n",
              "      <td>False</td>\n",
              "      <td>False</td>\n",
              "      <td>False</td>\n",
              "      <td>False</td>\n",
              "      <td>False</td>\n",
              "      <td>False</td>\n",
              "      <td>False</td>\n",
              "    </tr>\n",
              "    <tr>\n",
              "      <th>8</th>\n",
              "      <td>2012</td>\n",
              "      <td>230.0</td>\n",
              "      <td>6.0</td>\n",
              "      <td>2.0</td>\n",
              "      <td>18.0</td>\n",
              "      <td>3916</td>\n",
              "      <td>36900</td>\n",
              "      <td>True</td>\n",
              "      <td>True</td>\n",
              "      <td>False</td>\n",
              "      <td>False</td>\n",
              "      <td>False</td>\n",
              "      <td>False</td>\n",
              "      <td>False</td>\n",
              "      <td>False</td>\n",
              "      <td>False</td>\n",
              "      <td>False</td>\n",
              "      <td>False</td>\n",
              "      <td>False</td>\n",
              "      <td>False</td>\n",
              "      <td>False</td>\n",
              "      <td>False</td>\n",
              "      <td>False</td>\n",
              "      <td>False</td>\n",
              "      <td>False</td>\n",
              "      <td>False</td>\n",
              "      <td>False</td>\n",
              "      <td>False</td>\n",
              "      <td>False</td>\n",
              "      <td>False</td>\n",
              "      <td>True</td>\n",
              "      <td>False</td>\n",
              "      <td>False</td>\n",
              "      <td>False</td>\n",
              "      <td>True</td>\n",
              "      <td>False</td>\n",
              "      <td>False</td>\n",
              "      <td>True</td>\n",
              "      <td>False</td>\n",
              "      <td>False</td>\n",
              "      <td>False</td>\n",
              "      <td>False</td>\n",
              "      <td>False</td>\n",
              "      <td>False</td>\n",
              "      <td>False</td>\n",
              "      <td>False</td>\n",
              "      <td>True</td>\n",
              "      <td>False</td>\n",
              "      <td>False</td>\n",
              "      <td>False</td>\n",
              "      <td>False</td>\n",
              "      <td>False</td>\n",
              "      <td>False</td>\n",
              "      <td>False</td>\n",
              "      <td>False</td>\n",
              "      <td>False</td>\n",
              "    </tr>\n",
              "    <tr>\n",
              "      <th>9</th>\n",
              "      <td>2013</td>\n",
              "      <td>230.0</td>\n",
              "      <td>6.0</td>\n",
              "      <td>2.0</td>\n",
              "      <td>18.0</td>\n",
              "      <td>3916</td>\n",
              "      <td>37200</td>\n",
              "      <td>True</td>\n",
              "      <td>True</td>\n",
              "      <td>False</td>\n",
              "      <td>False</td>\n",
              "      <td>False</td>\n",
              "      <td>False</td>\n",
              "      <td>False</td>\n",
              "      <td>False</td>\n",
              "      <td>False</td>\n",
              "      <td>False</td>\n",
              "      <td>False</td>\n",
              "      <td>False</td>\n",
              "      <td>False</td>\n",
              "      <td>False</td>\n",
              "      <td>False</td>\n",
              "      <td>False</td>\n",
              "      <td>False</td>\n",
              "      <td>False</td>\n",
              "      <td>False</td>\n",
              "      <td>False</td>\n",
              "      <td>False</td>\n",
              "      <td>False</td>\n",
              "      <td>False</td>\n",
              "      <td>True</td>\n",
              "      <td>False</td>\n",
              "      <td>False</td>\n",
              "      <td>False</td>\n",
              "      <td>True</td>\n",
              "      <td>False</td>\n",
              "      <td>False</td>\n",
              "      <td>True</td>\n",
              "      <td>False</td>\n",
              "      <td>False</td>\n",
              "      <td>False</td>\n",
              "      <td>False</td>\n",
              "      <td>False</td>\n",
              "      <td>False</td>\n",
              "      <td>False</td>\n",
              "      <td>False</td>\n",
              "      <td>True</td>\n",
              "      <td>False</td>\n",
              "      <td>False</td>\n",
              "      <td>False</td>\n",
              "      <td>False</td>\n",
              "      <td>False</td>\n",
              "      <td>False</td>\n",
              "      <td>False</td>\n",
              "      <td>False</td>\n",
              "      <td>False</td>\n",
              "    </tr>\n",
              "  </tbody>\n",
              "</table>\n",
              "</div>"
            ],
            "text/plain": [
              "   Year  Engine HP  Engine Cylinders  Number of Doors  city mpg  Popularity  \\\n",
              "0  2011      335.0               6.0              2.0      19.0        3916   \n",
              "1  2011      300.0               6.0              2.0      19.0        3916   \n",
              "2  2011      300.0               6.0              2.0      20.0        3916   \n",
              "3  2011      230.0               6.0              2.0      18.0        3916   \n",
              "4  2011      230.0               6.0              2.0      18.0        3916   \n",
              "5  2012      230.0               6.0              2.0      18.0        3916   \n",
              "6  2012      300.0               6.0              2.0      17.0        3916   \n",
              "7  2012      300.0               6.0              2.0      20.0        3916   \n",
              "8  2012      230.0               6.0              2.0      18.0        3916   \n",
              "9  2013      230.0               6.0              2.0      18.0        3916   \n",
              "\n",
              "    MSRP  Car_Type_Normal  Make_BMW  Make_Cadillac  Make_Chevrolet  \\\n",
              "0  46135             True      True          False           False   \n",
              "1  40650             True      True          False           False   \n",
              "2  36350             True      True          False           False   \n",
              "3  29450             True      True          False           False   \n",
              "4  34500             True      True          False           False   \n",
              "5  31200             True      True          False           False   \n",
              "6  44100             True      True          False           False   \n",
              "7  39300             True      True          False           False   \n",
              "8  36900             True      True          False           False   \n",
              "9  37200             True      True          False           False   \n",
              "\n",
              "   Make_Dodge  Make_Ford  Make_GMC  Make_Honda  Make_Infiniti  Make_Mazda  \\\n",
              "0       False      False     False       False          False       False   \n",
              "1       False      False     False       False          False       False   \n",
              "2       False      False     False       False          False       False   \n",
              "3       False      False     False       False          False       False   \n",
              "4       False      False     False       False          False       False   \n",
              "5       False      False     False       False          False       False   \n",
              "6       False      False     False       False          False       False   \n",
              "7       False      False     False       False          False       False   \n",
              "8       False      False     False       False          False       False   \n",
              "9       False      False     False       False          False       False   \n",
              "\n",
              "   Make_Mercedes-Benz  Make_Nissan  Make_Other  Make_Suzuki  Make_Toyota  \\\n",
              "0               False        False       False        False        False   \n",
              "1               False        False       False        False        False   \n",
              "2               False        False       False        False        False   \n",
              "3               False        False       False        False        False   \n",
              "4               False        False       False        False        False   \n",
              "5               False        False       False        False        False   \n",
              "6               False        False       False        False        False   \n",
              "7               False        False       False        False        False   \n",
              "8               False        False       False        False        False   \n",
              "9               False        False       False        False        False   \n",
              "\n",
              "   Make_Volkswagen  Engine Fuel Type_electric  \\\n",
              "0            False                      False   \n",
              "1            False                      False   \n",
              "2            False                      False   \n",
              "3            False                      False   \n",
              "4            False                      False   \n",
              "5            False                      False   \n",
              "6            False                      False   \n",
              "7            False                      False   \n",
              "8            False                      False   \n",
              "9            False                      False   \n",
              "\n",
              "   Engine Fuel Type_flex-fuel (premium unleaded recommended/E85)  \\\n",
              "0                                              False               \n",
              "1                                              False               \n",
              "2                                              False               \n",
              "3                                              False               \n",
              "4                                              False               \n",
              "5                                              False               \n",
              "6                                              False               \n",
              "7                                              False               \n",
              "8                                              False               \n",
              "9                                              False               \n",
              "\n",
              "   Engine Fuel Type_flex-fuel (premium unleaded required/E85)  \\\n",
              "0                                              False            \n",
              "1                                              False            \n",
              "2                                              False            \n",
              "3                                              False            \n",
              "4                                              False            \n",
              "5                                              False            \n",
              "6                                              False            \n",
              "7                                              False            \n",
              "8                                              False            \n",
              "9                                              False            \n",
              "\n",
              "   Engine Fuel Type_flex-fuel (unleaded/E85)  \\\n",
              "0                                      False   \n",
              "1                                      False   \n",
              "2                                      False   \n",
              "3                                      False   \n",
              "4                                      False   \n",
              "5                                      False   \n",
              "6                                      False   \n",
              "7                                      False   \n",
              "8                                      False   \n",
              "9                                      False   \n",
              "\n",
              "   Engine Fuel Type_flex-fuel (unleaded/natural gas)  \\\n",
              "0                                              False   \n",
              "1                                              False   \n",
              "2                                              False   \n",
              "3                                              False   \n",
              "4                                              False   \n",
              "5                                              False   \n",
              "6                                              False   \n",
              "7                                              False   \n",
              "8                                              False   \n",
              "9                                              False   \n",
              "\n",
              "   Engine Fuel Type_natural gas  \\\n",
              "0                         False   \n",
              "1                         False   \n",
              "2                         False   \n",
              "3                         False   \n",
              "4                         False   \n",
              "5                         False   \n",
              "6                         False   \n",
              "7                         False   \n",
              "8                         False   \n",
              "9                         False   \n",
              "\n",
              "   Engine Fuel Type_premium unleaded (recommended)  \\\n",
              "0                                            False   \n",
              "1                                            False   \n",
              "2                                            False   \n",
              "3                                            False   \n",
              "4                                            False   \n",
              "5                                            False   \n",
              "6                                            False   \n",
              "7                                            False   \n",
              "8                                            False   \n",
              "9                                            False   \n",
              "\n",
              "   Engine Fuel Type_premium unleaded (required)  \\\n",
              "0                                          True   \n",
              "1                                          True   \n",
              "2                                          True   \n",
              "3                                          True   \n",
              "4                                          True   \n",
              "5                                          True   \n",
              "6                                          True   \n",
              "7                                          True   \n",
              "8                                          True   \n",
              "9                                          True   \n",
              "\n",
              "   Engine Fuel Type_regular unleaded  Driven_Wheels_four wheel drive  \\\n",
              "0                              False                           False   \n",
              "1                              False                           False   \n",
              "2                              False                           False   \n",
              "3                              False                           False   \n",
              "4                              False                           False   \n",
              "5                              False                           False   \n",
              "6                              False                           False   \n",
              "7                              False                           False   \n",
              "8                              False                           False   \n",
              "9                              False                           False   \n",
              "\n",
              "   Driven_Wheels_front wheel drive  Driven_Wheels_rear wheel drive  \\\n",
              "0                            False                            True   \n",
              "1                            False                            True   \n",
              "2                            False                            True   \n",
              "3                            False                            True   \n",
              "4                            False                            True   \n",
              "5                            False                            True   \n",
              "6                            False                            True   \n",
              "7                            False                            True   \n",
              "8                            False                            True   \n",
              "9                            False                            True   \n",
              "\n",
              "   Transmission Type_AUTOMATIC  Transmission Type_DIRECT_DRIVE  \\\n",
              "0                        False                           False   \n",
              "1                        False                           False   \n",
              "2                        False                           False   \n",
              "3                        False                           False   \n",
              "4                        False                           False   \n",
              "5                        False                           False   \n",
              "6                        False                           False   \n",
              "7                        False                           False   \n",
              "8                        False                           False   \n",
              "9                        False                           False   \n",
              "\n",
              "   Transmission Type_MANUAL  Transmission Type_UNKNOWN  Vehicle Size_Large  \\\n",
              "0                      True                      False               False   \n",
              "1                      True                      False               False   \n",
              "2                      True                      False               False   \n",
              "3                      True                      False               False   \n",
              "4                      True                      False               False   \n",
              "5                      True                      False               False   \n",
              "6                      True                      False               False   \n",
              "7                      True                      False               False   \n",
              "8                      True                      False               False   \n",
              "9                      True                      False               False   \n",
              "\n",
              "   Vehicle Size_Midsize  Vehicle Style_2dr SUV  Vehicle Style_4dr Hatchback  \\\n",
              "0                 False                  False                        False   \n",
              "1                 False                  False                        False   \n",
              "2                 False                  False                        False   \n",
              "3                 False                  False                        False   \n",
              "4                 False                  False                        False   \n",
              "5                 False                  False                        False   \n",
              "6                 False                  False                        False   \n",
              "7                 False                  False                        False   \n",
              "8                 False                  False                        False   \n",
              "9                 False                  False                        False   \n",
              "\n",
              "   Vehicle Style_4dr SUV  Vehicle Style_Cargo Minivan  \\\n",
              "0                  False                        False   \n",
              "1                  False                        False   \n",
              "2                  False                        False   \n",
              "3                  False                        False   \n",
              "4                  False                        False   \n",
              "5                  False                        False   \n",
              "6                  False                        False   \n",
              "7                  False                        False   \n",
              "8                  False                        False   \n",
              "9                  False                        False   \n",
              "\n",
              "   Vehicle Style_Cargo Van  Vehicle Style_Convertible  \\\n",
              "0                    False                      False   \n",
              "1                    False                       True   \n",
              "2                    False                      False   \n",
              "3                    False                      False   \n",
              "4                    False                       True   \n",
              "5                    False                      False   \n",
              "6                    False                       True   \n",
              "7                    False                      False   \n",
              "8                    False                       True   \n",
              "9                    False                       True   \n",
              "\n",
              "   Vehicle Style_Convertible SUV  Vehicle Style_Coupe  \\\n",
              "0                          False                 True   \n",
              "1                          False                False   \n",
              "2                          False                 True   \n",
              "3                          False                 True   \n",
              "4                          False                False   \n",
              "5                          False                 True   \n",
              "6                          False                False   \n",
              "7                          False                 True   \n",
              "8                          False                False   \n",
              "9                          False                False   \n",
              "\n",
              "   Vehicle Style_Crew Cab Pickup  Vehicle Style_Extended Cab Pickup  \\\n",
              "0                          False                              False   \n",
              "1                          False                              False   \n",
              "2                          False                              False   \n",
              "3                          False                              False   \n",
              "4                          False                              False   \n",
              "5                          False                              False   \n",
              "6                          False                              False   \n",
              "7                          False                              False   \n",
              "8                          False                              False   \n",
              "9                          False                              False   \n",
              "\n",
              "   Vehicle Style_Passenger Minivan  Vehicle Style_Passenger Van  \\\n",
              "0                            False                        False   \n",
              "1                            False                        False   \n",
              "2                            False                        False   \n",
              "3                            False                        False   \n",
              "4                            False                        False   \n",
              "5                            False                        False   \n",
              "6                            False                        False   \n",
              "7                            False                        False   \n",
              "8                            False                        False   \n",
              "9                            False                        False   \n",
              "\n",
              "   Vehicle Style_Regular Cab Pickup  Vehicle Style_Sedan  Vehicle Style_Wagon  \n",
              "0                             False                False                False  \n",
              "1                             False                False                False  \n",
              "2                             False                False                False  \n",
              "3                             False                False                False  \n",
              "4                             False                False                False  \n",
              "5                             False                False                False  \n",
              "6                             False                False                False  \n",
              "7                             False                False                False  \n",
              "8                             False                False                False  \n",
              "9                             False                False                False  "
            ]
          },
          "execution_count": 176,
          "metadata": {},
          "output_type": "execute_result"
        }
      ],
      "source": [
        "pd.set_option('display.max_columns', None)\n",
        "df.head(10)"
      ]
    },
    {
      "cell_type": "code",
      "execution_count": 177,
      "id": "4ced73ac",
      "metadata": {
        "colab": {
          "base_uri": "https://localhost:8080/"
        },
        "id": "4ced73ac",
        "outputId": "f06fe7f5-7c1c-4c6c-949f-0e26663443af"
      },
      "outputs": [
        {
          "name": "stdout",
          "output_type": "stream",
          "text": [
            "<class 'pandas.core.frame.DataFrame'>\n",
            "Index: 11185 entries, 0 to 11913\n",
            "Data columns (total 56 columns):\n",
            " #   Column                                                         Non-Null Count  Dtype  \n",
            "---  ------                                                         --------------  -----  \n",
            " 0   Year                                                           11185 non-null  int64  \n",
            " 1   Engine HP                                                      11185 non-null  float64\n",
            " 2   Engine Cylinders                                               11185 non-null  float64\n",
            " 3   Number of Doors                                                11185 non-null  float64\n",
            " 4   city mpg                                                       11185 non-null  float64\n",
            " 5   Popularity                                                     11185 non-null  int64  \n",
            " 6   MSRP                                                           11185 non-null  int64  \n",
            " 7   Car_Type_Normal                                                11185 non-null  bool   \n",
            " 8   Make_BMW                                                       11185 non-null  bool   \n",
            " 9   Make_Cadillac                                                  11185 non-null  bool   \n",
            " 10  Make_Chevrolet                                                 11185 non-null  bool   \n",
            " 11  Make_Dodge                                                     11185 non-null  bool   \n",
            " 12  Make_Ford                                                      11185 non-null  bool   \n",
            " 13  Make_GMC                                                       11185 non-null  bool   \n",
            " 14  Make_Honda                                                     11185 non-null  bool   \n",
            " 15  Make_Infiniti                                                  11185 non-null  bool   \n",
            " 16  Make_Mazda                                                     11185 non-null  bool   \n",
            " 17  Make_Mercedes-Benz                                             11185 non-null  bool   \n",
            " 18  Make_Nissan                                                    11185 non-null  bool   \n",
            " 19  Make_Other                                                     11185 non-null  bool   \n",
            " 20  Make_Suzuki                                                    11185 non-null  bool   \n",
            " 21  Make_Toyota                                                    11185 non-null  bool   \n",
            " 22  Make_Volkswagen                                                11185 non-null  bool   \n",
            " 23  Engine Fuel Type_electric                                      11185 non-null  bool   \n",
            " 24  Engine Fuel Type_flex-fuel (premium unleaded recommended/E85)  11185 non-null  bool   \n",
            " 25  Engine Fuel Type_flex-fuel (premium unleaded required/E85)     11185 non-null  bool   \n",
            " 26  Engine Fuel Type_flex-fuel (unleaded/E85)                      11185 non-null  bool   \n",
            " 27  Engine Fuel Type_flex-fuel (unleaded/natural gas)              11185 non-null  bool   \n",
            " 28  Engine Fuel Type_natural gas                                   11185 non-null  bool   \n",
            " 29  Engine Fuel Type_premium unleaded (recommended)                11185 non-null  bool   \n",
            " 30  Engine Fuel Type_premium unleaded (required)                   11185 non-null  bool   \n",
            " 31  Engine Fuel Type_regular unleaded                              11185 non-null  bool   \n",
            " 32  Driven_Wheels_four wheel drive                                 11185 non-null  bool   \n",
            " 33  Driven_Wheels_front wheel drive                                11185 non-null  bool   \n",
            " 34  Driven_Wheels_rear wheel drive                                 11185 non-null  bool   \n",
            " 35  Transmission Type_AUTOMATIC                                    11185 non-null  bool   \n",
            " 36  Transmission Type_DIRECT_DRIVE                                 11185 non-null  bool   \n",
            " 37  Transmission Type_MANUAL                                       11185 non-null  bool   \n",
            " 38  Transmission Type_UNKNOWN                                      11185 non-null  bool   \n",
            " 39  Vehicle Size_Large                                             11185 non-null  bool   \n",
            " 40  Vehicle Size_Midsize                                           11185 non-null  bool   \n",
            " 41  Vehicle Style_2dr SUV                                          11185 non-null  bool   \n",
            " 42  Vehicle Style_4dr Hatchback                                    11185 non-null  bool   \n",
            " 43  Vehicle Style_4dr SUV                                          11185 non-null  bool   \n",
            " 44  Vehicle Style_Cargo Minivan                                    11185 non-null  bool   \n",
            " 45  Vehicle Style_Cargo Van                                        11185 non-null  bool   \n",
            " 46  Vehicle Style_Convertible                                      11185 non-null  bool   \n",
            " 47  Vehicle Style_Convertible SUV                                  11185 non-null  bool   \n",
            " 48  Vehicle Style_Coupe                                            11185 non-null  bool   \n",
            " 49  Vehicle Style_Crew Cab Pickup                                  11185 non-null  bool   \n",
            " 50  Vehicle Style_Extended Cab Pickup                              11185 non-null  bool   \n",
            " 51  Vehicle Style_Passenger Minivan                                11185 non-null  bool   \n",
            " 52  Vehicle Style_Passenger Van                                    11185 non-null  bool   \n",
            " 53  Vehicle Style_Regular Cab Pickup                               11185 non-null  bool   \n",
            " 54  Vehicle Style_Sedan                                            11185 non-null  bool   \n",
            " 55  Vehicle Style_Wagon                                            11185 non-null  bool   \n",
            "dtypes: bool(49), float64(4), int64(3)\n",
            "memory usage: 1.2 MB\n"
          ]
        }
      ],
      "source": [
        "df.info()"
      ]
    }
  ],
  "metadata": {
    "colab": {
      "provenance": []
    },
    "kernelspec": {
      "display_name": "Python 3",
      "language": "python",
      "name": "python3"
    },
    "language_info": {
      "codemirror_mode": {
        "name": "ipython",
        "version": 3
      },
      "file_extension": ".py",
      "mimetype": "text/x-python",
      "name": "python",
      "nbconvert_exporter": "python",
      "pygments_lexer": "ipython3",
      "version": "3.11.0"
    }
  },
  "nbformat": 4,
  "nbformat_minor": 5
}
